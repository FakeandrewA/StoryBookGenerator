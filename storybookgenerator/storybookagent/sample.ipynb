{
 "cells": [
  {
   "cell_type": "code",
   "execution_count": 3,
   "id": "42986ca6",
   "metadata": {},
   "outputs": [
    {
     "data": {
      "text/plain": [
       "True"
      ]
     },
     "execution_count": 3,
     "metadata": {},
     "output_type": "execute_result"
    }
   ],
   "source": [
    "from dotenv import load_dotenv\n",
    "load_dotenv()"
   ]
  },
  {
   "cell_type": "code",
   "execution_count": 26,
   "id": "25d6dea0",
   "metadata": {},
   "outputs": [],
   "source": [
    "from PIL import Image\n",
    "from io import BytesIO\n"
   ]
  },
  {
   "cell_type": "code",
   "execution_count": 22,
   "id": "6de894b5",
   "metadata": {},
   "outputs": [
    {
     "name": "stdout",
     "output_type": "stream",
     "text": [
      "Loaded as API: https://black-forest-labs-flux-1-dev.hf.space ✔\n"
     ]
    }
   ],
   "source": [
    "from gradio_client import Client\n",
    "\n",
    "client = Client(\"black-forest-labs/FLUX.1-Dev\")"
   ]
  },
  {
   "cell_type": "code",
   "execution_count": 23,
   "id": "a5327706",
   "metadata": {},
   "outputs": [
    {
     "name": "stdout",
     "output_type": "stream",
     "text": [
      "Client.predict() Usage Info\n",
      "---------------------------\n",
      "Named API endpoints: 1\n",
      "\n",
      " - predict(prompt, seed, randomize_seed, width, height, guidance_scale, num_inference_steps, api_name=\"/infer\") -> (result, seed)\n",
      "    Parameters:\n",
      "     - [Textbox] prompt: str (required)  \n",
      "     - [Slider] seed: float (not required, defaults to:   0)  \n",
      "     - [Checkbox] randomize_seed: bool (not required, defaults to:   True)  \n",
      "     - [Slider] width: float (not required, defaults to:   1024)  \n",
      "     - [Slider] height: float (not required, defaults to:   1024)  \n",
      "     - [Slider] guidance_scale: float (not required, defaults to:   3.5)  \n",
      "     - [Slider] num_inference_steps: float (not required, defaults to:   28)  \n",
      "    Returns:\n",
      "     - [Image] result: dict(path: str | None (Path to a local file), url: str | None (Publicly available url or base64 encoded image), size: int | None (Size of image in bytes), orig_name: str | None (Original filename), mime_type: str | None (mime type of image), is_stream: bool (Can always be set to False), meta: dict(str, Any)) \n",
      "     - [Slider] seed: float (numeric value between 0 and 2147483647) \n",
      "\n"
     ]
    }
   ],
   "source": [
    "client.view_api()"
   ]
  },
  {
   "cell_type": "code",
   "execution_count": 24,
   "id": "68405f1a",
   "metadata": {},
   "outputs": [],
   "source": [
    "CHARACTER_DESCRIPTION = \"\"\"\n",
    "Characters for this story:\n",
    "- Benny the crow: a clever black crow with bright blue eyes and a small golden scarf, always smiling.\n",
    "- Daisy the cow: a gentle white cow with brown patches and big friendly eyes, wears a tiny sun hat.\n",
    "\"\"\""
   ]
  },
  {
   "cell_type": "code",
   "execution_count": 25,
   "id": "0bc85d6b",
   "metadata": {},
   "outputs": [],
   "source": [
    "prompt_1 = f\"\"\"\n",
    "{CHARACTER_DESCRIPTION}\n",
    "Scene 1: Benny the crow spots something shiny in the grass near Daisy the cow, who is chewing flowers peacefully. \n",
    "Draw them in a bright meadow under a blue sky.\n",
    "\"\"\"\n"
   ]
  },
  {
   "cell_type": "code",
   "execution_count": 27,
   "id": "0822aeba",
   "metadata": {},
   "outputs": [],
   "source": [
    "result_1 = client.predict(\n",
    "    prompt=prompt_1,\n",
    "    seed=43,\n",
    "    width=1024,\n",
    "    height=1024,\n",
    "    num_inference_steps=28,\n",
    "    api_name=\"/infer\"\n",
    ")\n",
    "\n",
    "image_path = result_1[0]\n",
    "image = Image.open(image_path)\n",
    "image.save(\"storyboard_crows_and_cows_1.png\")"
   ]
  },
  {
   "cell_type": "code",
   "execution_count": null,
   "id": "29900f6c",
   "metadata": {},
   "outputs": [],
   "source": []
  },
  {
   "cell_type": "code",
   "execution_count": 31,
   "id": "4283d035",
   "metadata": {},
   "outputs": [
    {
     "ename": "RepositoryNotFoundError",
     "evalue": "401 Client Error. (Request ID: Root=1-687729bd-2b63ba030141e83e19f245b3;3770db50-02c1-4831-b704-0c2ba0950f1d)\n\nRepository Not Found for url: https://huggingface.co/api/spaces/coqui/XTTS-v2.\nPlease make sure you specified the correct `repo_id` and `repo_type`.\nIf you are trying to access a private or gated repo, make sure you are authenticated. For more details, see https://huggingface.co/docs/huggingface_hub/authentication\nInvalid username or password.",
     "output_type": "error",
     "traceback": [
      "\u001b[31m---------------------------------------------------------------------------\u001b[39m",
      "\u001b[31mHTTPError\u001b[39m                                 Traceback (most recent call last)",
      "\u001b[36mFile \u001b[39m\u001b[32md:\\Current Projects\\StoryGenerator\\venv\\Lib\\site-packages\\huggingface_hub\\utils\\_http.py:409\u001b[39m, in \u001b[36mhf_raise_for_status\u001b[39m\u001b[34m(response, endpoint_name)\u001b[39m\n\u001b[32m    408\u001b[39m \u001b[38;5;28;01mtry\u001b[39;00m:\n\u001b[32m--> \u001b[39m\u001b[32m409\u001b[39m     \u001b[43mresponse\u001b[49m\u001b[43m.\u001b[49m\u001b[43mraise_for_status\u001b[49m\u001b[43m(\u001b[49m\u001b[43m)\u001b[49m\n\u001b[32m    410\u001b[39m \u001b[38;5;28;01mexcept\u001b[39;00m HTTPError \u001b[38;5;28;01mas\u001b[39;00m e:\n",
      "\u001b[36mFile \u001b[39m\u001b[32md:\\Current Projects\\StoryGenerator\\venv\\Lib\\site-packages\\requests\\models.py:1026\u001b[39m, in \u001b[36mResponse.raise_for_status\u001b[39m\u001b[34m(self)\u001b[39m\n\u001b[32m   1025\u001b[39m \u001b[38;5;28;01mif\u001b[39;00m http_error_msg:\n\u001b[32m-> \u001b[39m\u001b[32m1026\u001b[39m     \u001b[38;5;28;01mraise\u001b[39;00m HTTPError(http_error_msg, response=\u001b[38;5;28mself\u001b[39m)\n",
      "\u001b[31mHTTPError\u001b[39m: 401 Client Error: Unauthorized for url: https://huggingface.co/api/spaces/coqui/XTTS-v2",
      "\nThe above exception was the direct cause of the following exception:\n",
      "\u001b[31mRepositoryNotFoundError\u001b[39m                   Traceback (most recent call last)",
      "\u001b[36mCell\u001b[39m\u001b[36m \u001b[39m\u001b[32mIn[31]\u001b[39m\u001b[32m, line 1\u001b[39m\n\u001b[32m----> \u001b[39m\u001b[32m1\u001b[39m client = \u001b[43mClient\u001b[49m\u001b[43m(\u001b[49m\u001b[33;43m\"\u001b[39;49m\u001b[33;43mcoqui/XTTS-v2\u001b[39;49m\u001b[33;43m\"\u001b[39;49m\u001b[43m)\u001b[49m\n\u001b[32m      2\u001b[39m client\n",
      "\u001b[36mFile \u001b[39m\u001b[32md:\\Current Projects\\StoryGenerator\\venv\\Lib\\site-packages\\gradio_client\\client.py:132\u001b[39m, in \u001b[36mClient.__init__\u001b[39m\u001b[34m(self, src, hf_token, max_workers, verbose, auth, httpx_kwargs, headers, download_files, ssl_verify, _skip_components, analytics_enabled)\u001b[39m\n\u001b[32m    130\u001b[39m     _src = src \u001b[38;5;28;01mif\u001b[39;00m src.endswith(\u001b[33m\"\u001b[39m\u001b[33m/\u001b[39m\u001b[33m\"\u001b[39m) \u001b[38;5;28;01melse\u001b[39;00m src + \u001b[33m\"\u001b[39m\u001b[33m/\u001b[39m\u001b[33m\"\u001b[39m\n\u001b[32m    131\u001b[39m \u001b[38;5;28;01melse\u001b[39;00m:\n\u001b[32m--> \u001b[39m\u001b[32m132\u001b[39m     _src = \u001b[38;5;28;43mself\u001b[39;49m\u001b[43m.\u001b[49m\u001b[43m_space_name_to_src\u001b[49m\u001b[43m(\u001b[49m\u001b[43msrc\u001b[49m\u001b[43m)\u001b[49m\n\u001b[32m    133\u001b[39m     \u001b[38;5;28;01mif\u001b[39;00m _src \u001b[38;5;129;01mis\u001b[39;00m \u001b[38;5;28;01mNone\u001b[39;00m:\n\u001b[32m    134\u001b[39m         \u001b[38;5;28;01mraise\u001b[39;00m \u001b[38;5;167;01mValueError\u001b[39;00m(\n\u001b[32m    135\u001b[39m             \u001b[33mf\u001b[39m\u001b[33m\"\u001b[39m\u001b[33mCould not find Space: \u001b[39m\u001b[38;5;132;01m{\u001b[39;00msrc\u001b[38;5;132;01m}\u001b[39;00m\u001b[33m. If it is a private Space, please provide an hf_token.\u001b[39m\u001b[33m\"\u001b[39m\n\u001b[32m    136\u001b[39m         )\n",
      "\u001b[36mFile \u001b[39m\u001b[32md:\\Current Projects\\StoryGenerator\\venv\\Lib\\site-packages\\gradio_client\\client.py:879\u001b[39m, in \u001b[36mClient._space_name_to_src\u001b[39m\u001b[34m(self, space)\u001b[39m\n\u001b[32m    878\u001b[39m \u001b[38;5;28;01mdef\u001b[39;00m\u001b[38;5;250m \u001b[39m\u001b[34m_space_name_to_src\u001b[39m(\u001b[38;5;28mself\u001b[39m, space) -> \u001b[38;5;28mstr\u001b[39m | \u001b[38;5;28;01mNone\u001b[39;00m:\n\u001b[32m--> \u001b[39m\u001b[32m879\u001b[39m     \u001b[38;5;28;01mreturn\u001b[39;00m \u001b[43mhuggingface_hub\u001b[49m\u001b[43m.\u001b[49m\u001b[43mspace_info\u001b[49m\u001b[43m(\u001b[49m\u001b[43mspace\u001b[49m\u001b[43m,\u001b[49m\u001b[43m \u001b[49m\u001b[43mtoken\u001b[49m\u001b[43m=\u001b[49m\u001b[38;5;28;43mself\u001b[39;49m\u001b[43m.\u001b[49m\u001b[43mhf_token\u001b[49m\u001b[43m)\u001b[49m.host\n",
      "\u001b[36mFile \u001b[39m\u001b[32md:\\Current Projects\\StoryGenerator\\venv\\Lib\\site-packages\\huggingface_hub\\utils\\_validators.py:114\u001b[39m, in \u001b[36mvalidate_hf_hub_args.<locals>._inner_fn\u001b[39m\u001b[34m(*args, **kwargs)\u001b[39m\n\u001b[32m    111\u001b[39m \u001b[38;5;28;01mif\u001b[39;00m check_use_auth_token:\n\u001b[32m    112\u001b[39m     kwargs = smoothly_deprecate_use_auth_token(fn_name=fn.\u001b[34m__name__\u001b[39m, has_token=has_token, kwargs=kwargs)\n\u001b[32m--> \u001b[39m\u001b[32m114\u001b[39m \u001b[38;5;28;01mreturn\u001b[39;00m \u001b[43mfn\u001b[49m\u001b[43m(\u001b[49m\u001b[43m*\u001b[49m\u001b[43margs\u001b[49m\u001b[43m,\u001b[49m\u001b[43m \u001b[49m\u001b[43m*\u001b[49m\u001b[43m*\u001b[49m\u001b[43mkwargs\u001b[49m\u001b[43m)\u001b[49m\n",
      "\u001b[36mFile \u001b[39m\u001b[32md:\\Current Projects\\StoryGenerator\\venv\\Lib\\site-packages\\huggingface_hub\\hf_api.py:2775\u001b[39m, in \u001b[36mHfApi.space_info\u001b[39m\u001b[34m(self, repo_id, revision, timeout, files_metadata, expand, token)\u001b[39m\n\u001b[32m   2772\u001b[39m     params[\u001b[33m\"\u001b[39m\u001b[33mexpand\u001b[39m\u001b[33m\"\u001b[39m] = expand\n\u001b[32m   2774\u001b[39m r = get_session().get(path, headers=headers, timeout=timeout, params=params)\n\u001b[32m-> \u001b[39m\u001b[32m2775\u001b[39m \u001b[43mhf_raise_for_status\u001b[49m\u001b[43m(\u001b[49m\u001b[43mr\u001b[49m\u001b[43m)\u001b[49m\n\u001b[32m   2776\u001b[39m data = r.json()\n\u001b[32m   2777\u001b[39m \u001b[38;5;28;01mreturn\u001b[39;00m SpaceInfo(**data)\n",
      "\u001b[36mFile \u001b[39m\u001b[32md:\\Current Projects\\StoryGenerator\\venv\\Lib\\site-packages\\huggingface_hub\\utils\\_http.py:459\u001b[39m, in \u001b[36mhf_raise_for_status\u001b[39m\u001b[34m(response, endpoint_name)\u001b[39m\n\u001b[32m    438\u001b[39m \u001b[38;5;28;01melif\u001b[39;00m error_code == \u001b[33m\"\u001b[39m\u001b[33mRepoNotFound\u001b[39m\u001b[33m\"\u001b[39m \u001b[38;5;129;01mor\u001b[39;00m (\n\u001b[32m    439\u001b[39m     response.status_code == \u001b[32m401\u001b[39m\n\u001b[32m    440\u001b[39m     \u001b[38;5;129;01mand\u001b[39;00m error_message != \u001b[33m\"\u001b[39m\u001b[33mInvalid credentials in Authorization header\u001b[39m\u001b[33m\"\u001b[39m\n\u001b[32m   (...)\u001b[39m\u001b[32m    448\u001b[39m     \u001b[38;5;66;03m# => for now, we process them as `RepoNotFound` anyway.\u001b[39;00m\n\u001b[32m    449\u001b[39m     \u001b[38;5;66;03m# See https://gist.github.com/Wauplin/46c27ad266b15998ce56a6603796f0b9\u001b[39;00m\n\u001b[32m    450\u001b[39m     message = (\n\u001b[32m    451\u001b[39m         \u001b[33mf\u001b[39m\u001b[33m\"\u001b[39m\u001b[38;5;132;01m{\u001b[39;00mresponse.status_code\u001b[38;5;132;01m}\u001b[39;00m\u001b[33m Client Error.\u001b[39m\u001b[33m\"\u001b[39m\n\u001b[32m    452\u001b[39m         + \u001b[33m\"\u001b[39m\u001b[38;5;130;01m\\n\u001b[39;00m\u001b[38;5;130;01m\\n\u001b[39;00m\u001b[33m\"\u001b[39m\n\u001b[32m   (...)\u001b[39m\u001b[32m    457\u001b[39m         \u001b[33m\"\u001b[39m\u001b[33m https://huggingface.co/docs/huggingface_hub/authentication\u001b[39m\u001b[33m\"\u001b[39m\n\u001b[32m    458\u001b[39m     )\n\u001b[32m--> \u001b[39m\u001b[32m459\u001b[39m     \u001b[38;5;28;01mraise\u001b[39;00m _format(RepositoryNotFoundError, message, response) \u001b[38;5;28;01mfrom\u001b[39;00m\u001b[38;5;250m \u001b[39m\u001b[34;01me\u001b[39;00m\n\u001b[32m    461\u001b[39m \u001b[38;5;28;01melif\u001b[39;00m response.status_code == \u001b[32m400\u001b[39m:\n\u001b[32m    462\u001b[39m     message = (\n\u001b[32m    463\u001b[39m         \u001b[33mf\u001b[39m\u001b[33m\"\u001b[39m\u001b[38;5;130;01m\\n\u001b[39;00m\u001b[38;5;130;01m\\n\u001b[39;00m\u001b[33mBad request for \u001b[39m\u001b[38;5;132;01m{\u001b[39;00mendpoint_name\u001b[38;5;132;01m}\u001b[39;00m\u001b[33m endpoint:\u001b[39m\u001b[33m\"\u001b[39m \u001b[38;5;28;01mif\u001b[39;00m endpoint_name \u001b[38;5;129;01mis\u001b[39;00m \u001b[38;5;129;01mnot\u001b[39;00m \u001b[38;5;28;01mNone\u001b[39;00m \u001b[38;5;28;01melse\u001b[39;00m \u001b[33m\"\u001b[39m\u001b[38;5;130;01m\\n\u001b[39;00m\u001b[38;5;130;01m\\n\u001b[39;00m\u001b[33mBad request:\u001b[39m\u001b[33m\"\u001b[39m\n\u001b[32m    464\u001b[39m     )\n",
      "\u001b[31mRepositoryNotFoundError\u001b[39m: 401 Client Error. (Request ID: Root=1-687729bd-2b63ba030141e83e19f245b3;3770db50-02c1-4831-b704-0c2ba0950f1d)\n\nRepository Not Found for url: https://huggingface.co/api/spaces/coqui/XTTS-v2.\nPlease make sure you specified the correct `repo_id` and `repo_type`.\nIf you are trying to access a private or gated repo, make sure you are authenticated. For more details, see https://huggingface.co/docs/huggingface_hub/authentication\nInvalid username or password."
     ]
    }
   ],
   "source": [
    "client = Client(\"coqui/XTTS-v2\")\n",
    "client"
   ]
  },
  {
   "cell_type": "code",
   "execution_count": 36,
   "id": "cbe22562",
   "metadata": {},
   "outputs": [
    {
     "data": {
      "text/plain": [
       "<InferenceClient(model='facebook/fastspeech2-en-ljspeech', timeout=None)>"
      ]
     },
     "execution_count": 36,
     "metadata": {},
     "output_type": "execute_result"
    }
   ],
   "source": [
    "from huggingface_hub import InferenceClient\n",
    "\n",
    "client = InferenceClient(model=\"facebook/fastspeech2-en-ljspeech\")\n",
    "client"
   ]
  },
  {
   "cell_type": "code",
   "execution_count": null,
   "id": "df49f784",
   "metadata": {},
   "outputs": [],
   "source": [
    "from voicerss_tts import voicerss_tts"
   ]
  },
  {
   "cell_type": "code",
   "execution_count": 44,
   "id": "90a6fa94",
   "metadata": {},
   "outputs": [
    {
     "ename": "AttributeError",
     "evalue": "module 'voicerss_tts' has no attribute 'TextToSpeech'",
     "output_type": "error",
     "traceback": [
      "\u001b[31m---------------------------------------------------------------------------\u001b[39m",
      "\u001b[31mAttributeError\u001b[39m                            Traceback (most recent call last)",
      "\u001b[36mCell\u001b[39m\u001b[36m \u001b[39m\u001b[32mIn[44]\u001b[39m\u001b[32m, line 1\u001b[39m\n\u001b[32m----> \u001b[39m\u001b[32m1\u001b[39m voice = \u001b[43mvoicerss_tts\u001b[49m\u001b[43m.\u001b[49m\u001b[43mTextToSpeech\u001b[49m(\n\u001b[32m      2\u001b[39m     api_key=\u001b[33m'\u001b[39m\u001b[33m57311c7fce6f4274af4aceb5fd1ba550\u001b[39m\u001b[33m'\u001b[39m,\n\u001b[32m      3\u001b[39m     language=\u001b[33m'\u001b[39m\u001b[33men-us\u001b[39m\u001b[33m'\u001b[39m,\n\u001b[32m      4\u001b[39m     text = \u001b[33m'''\u001b[39m\u001b[33mUnder a bright blue sky, Benny the clever crow spots something shiny in the grass. \u001b[39m\u001b[33m'''\u001b[39m\n\u001b[32m      5\u001b[39m )\n",
      "\u001b[31mAttributeError\u001b[39m: module 'voicerss_tts' has no attribute 'TextToSpeech'"
     ]
    }
   ],
   "source": [
    "voice = voicerss_tts.TextToSpeech(\n",
    "    api_key='57311c7fce6f4274af4aceb5fd1ba550',\n",
    "    language='en-us',\n",
    "    text = '''Under a bright blue sky, Benny the clever crow spots something shiny in the grass. '''\n",
    ")"
   ]
  },
  {
   "cell_type": "code",
   "execution_count": 45,
   "id": "e618e2b0",
   "metadata": {},
   "outputs": [
    {
     "ename": "ImportError",
     "evalue": "cannot import name 'VoiceRSS' from 'voicerss_tts' (d:\\Current Projects\\StoryGenerator\\venv\\Lib\\site-packages\\voicerss_tts\\__init__.py)",
     "output_type": "error",
     "traceback": [
      "\u001b[31m---------------------------------------------------------------------------\u001b[39m",
      "\u001b[31mImportError\u001b[39m                               Traceback (most recent call last)",
      "\u001b[36mCell\u001b[39m\u001b[36m \u001b[39m\u001b[32mIn[45]\u001b[39m\u001b[32m, line 1\u001b[39m\n\u001b[32m----> \u001b[39m\u001b[32m1\u001b[39m \u001b[38;5;28;01mfrom\u001b[39;00m\u001b[38;5;250m \u001b[39m\u001b[34;01mvoicerss_tts\u001b[39;00m\u001b[38;5;250m \u001b[39m\u001b[38;5;28;01mimport\u001b[39;00m VoiceRSS\n\u001b[32m      3\u001b[39m api_key = \u001b[33m\"\u001b[39m\u001b[33m57311c7fce6f4274af4aceb5fd1ba550\u001b[39m\u001b[33m\"\u001b[39m\n\u001b[32m      5\u001b[39m \u001b[38;5;66;03m# initialize client\u001b[39;00m\n",
      "\u001b[31mImportError\u001b[39m: cannot import name 'VoiceRSS' from 'voicerss_tts' (d:\\Current Projects\\StoryGenerator\\venv\\Lib\\site-packages\\voicerss_tts\\__init__.py)"
     ]
    }
   ],
   "source": [
    "from voicerss_tts import VoiceRSS\n",
    "\n",
    "api_key = \"57311c7fce6f4274af4aceb5fd1ba550\"\n",
    "\n",
    "# initialize client\n",
    "client = VoiceRSS(api_key)\n",
    "\n",
    "# get speech audio in bytes\n",
    "audio = client.speech({\n",
    "    'hl': 'en-us',\n",
    "    'src': '''Under a bright blue sky, Benny the clever crow spots something shiny in the grass.''',\n",
    "    'c': 'MP3',\n",
    "    'f': '48khz_16bit_stereo'\n",
    "})\n",
    "\n",
    "# save to file\n",
    "with open(\"scene1.mp3\", \"wb\") as f:\n",
    "    f.write(audio['response'])\n"
   ]
  },
  {
   "cell_type": "code",
   "execution_count": 46,
   "id": "2bb14539",
   "metadata": {},
   "outputs": [],
   "source": [
    "import requests\n",
    "\n",
    "params = {\n",
    "    \"key\": \"57311c7fce6f4274af4aceb5fd1ba550\",\n",
    "    \"hl\": \"en-us\",\n",
    "    \"src\": '''Under a bright blue sky, Benny the clever crow spots something shiny in the grass.''',\n",
    "    \"c\": \"MP3\",\n",
    "    \"f\": \"48khz_16bit_stereo\"\n",
    "}\n",
    "\n",
    "response = requests.get(\"https://api.voicerss.org/\", params=params)\n",
    "\n",
    "# Save to MP3\n",
    "with open(\"scene1.mp3\", \"wb\") as f:\n",
    "    f.write(response.content)\n"
   ]
  },
  {
   "cell_type": "code",
   "execution_count": null,
   "id": "297e46db",
   "metadata": {},
   "outputs": [],
   "source": []
  }
 ],
 "metadata": {
  "kernelspec": {
   "display_name": "venv",
   "language": "python",
   "name": "python3"
  },
  "language_info": {
   "codemirror_mode": {
    "name": "ipython",
    "version": 3
   },
   "file_extension": ".py",
   "mimetype": "text/x-python",
   "name": "python",
   "nbconvert_exporter": "python",
   "pygments_lexer": "ipython3",
   "version": "3.12.3"
  }
 },
 "nbformat": 4,
 "nbformat_minor": 5
}
