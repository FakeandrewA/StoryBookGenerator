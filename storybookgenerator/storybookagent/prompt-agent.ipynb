{
 "cells": [
  {
   "cell_type": "markdown",
   "id": "66a5d55d",
   "metadata": {},
   "source": [
    "#### Story Generator -> \n",
    "#####     Character Generator (Public for all prompts to the image generator) (Done)\n",
    "#####      Story generation as Scenes with all characters (Done)\n",
    "#####      Title of the Book Generator (done )\n",
    "#####       Create a Graph workflow (done)\n",
    "To Do:\n",
    "\n",
    "create a reproducilble chain for creating a image of a scene\n",
    "research for TTS models\n",
    "os.env\n",
    "\n",
    "problems:\n",
    "character inconsistency\n",
    "style of image changing\n",
    "Not enough context to bring the whole picture into the book"
   ]
  },
  {
   "cell_type": "code",
   "execution_count": 52,
   "id": "48999579",
   "metadata": {},
   "outputs": [],
   "source": [
    "import uuid\n",
    "\n",
    "from typing import TypedDict,List , NotRequired\n",
    "from langgraph.graph import END,StateGraph\n",
    "from langchain_core.prompts import PromptTemplate\n",
    "from storygenerator.schemas import Story,Scenes\n",
    "from storygenerator.chains import scenesCreationChain,storyCreationChain,usersPromptGradingChain\n",
    "from storygenerator.imagegenerator import generateImage\n",
    "\n",
    "## State of the Graph\n",
    "class BookState(TypedDict):\n",
    "    users_prompt : str\n",
    "    story: NotRequired[Story]\n",
    "    scenes: NotRequired[Scenes]\n",
    "    grade: NotRequired[str]\n",
    "    users_id : NotRequired[int]\n",
    "\n",
    "##templates\n",
    "titleImageGenerationTemplate = PromptTemplate.from_template(\"\"\"\n",
    "    Create a Title page of the Book for this story book,\n",
    "    - Anywhere in the image place this title : '{title}' **ALWAYS INCLUDE THIS TITLE IN THE IMAGE** \n",
    "    -Make Sure Texts you create in the image is accurate and not a gibberish so focus more on that\n",
    "    -Dont Explicitly name things like 'Title of the book' near the title \n",
    "    - Only extract the theme from the below context\n",
    "{character_description}\\n\\n{story}\\n\\\n",
    "\n",
    "\"\"\") \n",
    "\n",
    "sceneImageGenerationTemplate = PromptTemplate.from_template(\"\"\"\n",
    "\n",
    "{current_scene}\n",
    "                                                            \n",
    "system_message: \n",
    "You are a creative AI director who is best at setting the scene from imagination to image.\n",
    "create the scene mentioned , you will have a context of what happened before and what is the current scene\n",
    "                                                            \n",
    "These are the Characters in the Story:\n",
    "{character_description}\n",
    "                                                        \n",
    "\n",
    "\"\"\")\n",
    "\n",
    "## Nodes\n",
    "def usersPrompt(state:BookState) -> BookState:\n",
    "    print(\"Accessing User's prompt...\")\n",
    "    grade = usersPromptGradingChain.invoke({\"users_prompt\":state[\"users_prompt\"]})\n",
    "    state[\"grade\"] = grade.isStory.strip().lower()\n",
    "    return state\n",
    "\n",
    "def gradeThePrompt(state):\n",
    "    print(\"Analysing the User's Prompt...\")\n",
    "    if (state[\"grade\"]==\"no\"):\n",
    "        print(\"Ending the Graph... , User's request is Not Valid\")\n",
    "        return END\n",
    "    else:\n",
    "        return \"storycreator\"\n",
    "    \n",
    "def storyCreator(state:BookState) -> BookState:\n",
    "    print(\"Entering Story Creation Node...\")\n",
    "    story = storyCreationChain.invoke({\"users_prompt\":state[\"users_prompt\"]})\n",
    "    print(\"Story Created...\")\n",
    "    state[\"story\"] = story\n",
    "    state[\"users_id\"] = uuid.uuid4()\n",
    "    return state\n",
    "\n",
    "def titleImageCreator(state:BookState) -> BookState:\n",
    "    print(\"Entering Title Image Creation Node...\")\n",
    "    story = state[\"story\"]\n",
    "    prompt = titleImageGenerationTemplate.format(**{\"character_description\":story.characterDescription,\"story\":story.story,\"title\":story.title})\n",
    "    print(prompt)\n",
    "    generateImage(prompt=prompt,filepath=f\"stories/{state[\"users_id\"]}\",filename=\"title.png\")\n",
    "    print(\"Created a Title Image....\")\n",
    "    return {}\n",
    "\n",
    "def scenesCreator(state:BookState) -> BookState:\n",
    "    print(\"Entering Scenes Creation Node... \")\n",
    "    story = state[\"story\"]\n",
    "    scenes = scenesCreationChain.invoke({\"story\":story.story,\"character_description\":story.characterDescription,\"title\":story.title})\n",
    "    print(\"Created Scenes\")\n",
    "    state[\"scenes\"] = scenes\n",
    "    print(scenes)\n",
    "    return state\n",
    "\n",
    "def scene1ImageCreator(state:BookState) -> BookState:\n",
    "    print(\"Entering Scene 1 Image Creation Node...\")\n",
    "    story = state[\"story\"]\n",
    "    previous_scenes = \"NO PREVIOUS SCENES\"\n",
    "    current_scene = state[\"scenes\"].scenes[0]\n",
    "    kwargs = {\"character_description\":story.characterDescription,\"story\":story.story,\"title\":story.title, \"previous_scenes\":previous_scenes,\"current_scene\":current_scene}\n",
    "    prompt = sceneImageGenerationTemplate.format(**kwargs)\n",
    "    print(prompt)\n",
    "    generateImage(prompt=prompt,filepath=f\"stories/{state[\"users_id\"]}\",filename=\"scene1.png\")\n",
    "    print(\"created scene 1 image\")\n",
    "    return {}\n",
    "\n",
    "def scene2ImageCreator(state:BookState) -> BookState:\n",
    "    print(\"Entering Scene 2 Image Creation Node...\")\n",
    "    story = state[\"story\"]\n",
    "    previous_scenes = \"\\n\\n\".join([f\"scene_{i}\\n\"+scene for i,scene in enumerate(state[\"scenes\"].scenes) if i < 1])\n",
    "    current_scene = state[\"scenes\"].scenes[1]\n",
    "    kwargs = {\"character_description\":story.characterDescription,\"story\":story.story,\"title\":story.title, \"previous_scenes\":previous_scenes,\"current_scene\":current_scene}\n",
    "    prompt = sceneImageGenerationTemplate.format(**kwargs)\n",
    "    print(prompt)\n",
    "    generateImage(prompt=prompt,filepath=f\"stories/{state[\"users_id\"]}\",filename=\"scene2.png\")\n",
    "    print(\"created scene 2 image\")\n",
    "    return {}\n",
    "\n",
    "def scene3ImageCreator(state:BookState) -> BookState:\n",
    "    print(\"Entering Scene 3 Image Creation Node...\")\n",
    "    story = state[\"story\"]\n",
    "    previous_scenes = \"\\n\\n\".join([f\"scene_{i}\\n\"+scene for i,scene in enumerate(state[\"scenes\"].scenes) if i < 2])\n",
    "    current_scene = state[\"scenes\"].scenes[2]\n",
    "    kwargs = {\"character_description\":story.characterDescription,\"story\":story.story,\"title\":story.title, \"previous_scenes\":previous_scenes,\"current_scene\":current_scene}\n",
    "    prompt = sceneImageGenerationTemplate.format(**kwargs)\n",
    "    print(prompt)\n",
    "    generateImage(prompt=prompt,filepath=f\"stories/{state[\"users_id\"]}\",filename=\"scene3.png\")\n",
    "    print(\"created scene 3 image\")\n",
    "    return {}\n",
    "\n",
    "def scene4ImageCreator(state:BookState) -> BookState:\n",
    "    print(\"Entering Scene 4 Image Creation Node...\")\n",
    "    story = state[\"story\"]\n",
    "    previous_scenes = \"\\n\\n\".join([f\"scene_{i}\\n\"+scene for i,scene in enumerate(state[\"scenes\"].scenes) if i < 3])\n",
    "    current_scene = state[\"scenes\"].scenes[3]\n",
    "    kwargs = {\"character_description\":story.characterDescription,\"story\":story.story,\"title\":story.title, \"previous_scenes\":previous_scenes,\"current_scene\":current_scene}\n",
    "    prompt = sceneImageGenerationTemplate.format(**kwargs)\n",
    "    print(prompt)\n",
    "    generateImage(prompt=prompt,filepath=f\"stories/{state[\"users_id\"]}\",filename=\"scene4.png\")\n",
    "    print(\"created scene 4 image\")\n",
    "    return {}\n",
    "\n",
    "def scene5ImageCreator(state:BookState) -> BookState:\n",
    "    print(\"Entering Scene 5 Image Creation Node...\")\n",
    "    story = state[\"story\"]\n",
    "    previous_scenes = \"\\n\\n\".join([f\"scene_{i}\\n\"+scene for i,scene in enumerate(state[\"scenes\"].scenes) if i < 4])\n",
    "    current_scene = state[\"scenes\"].scenes[4]\n",
    "    kwargs = {\"character_description\":story.characterDescription,\"story\":story.story,\"title\":story.title, \"previous_scenes\":previous_scenes,\"current_scene\":current_scene}\n",
    "    prompt = sceneImageGenerationTemplate.format(**kwargs)\n",
    "    print(prompt)\n",
    "    generateImage(prompt=prompt,filepath=f\"stories/{state[\"users_id\"]}\",filename=\"scene5.png\")\n",
    "    print(\"created scene 5 image\")\n",
    "    return {}\n",
    "\n",
    "graph = StateGraph(BookState)\n",
    "\n",
    "graph.add_node(\"usersprompt\",usersPrompt)\n",
    "graph.add_node(\"storycreator\",storyCreator)\n",
    "graph.add_node(\"titleimagecreator\",titleImageCreator)\n",
    "graph.add_node(\"scenescreator\",scenesCreator)\n",
    "graph.add_node(\"scene1imagecreator\",scene1ImageCreator)\n",
    "graph.add_node(\"scene2imagecreator\",scene2ImageCreator)\n",
    "graph.add_node(\"scene3imagecreator\",scene3ImageCreator)\n",
    "graph.add_node(\"scene4imagecreator\",scene4ImageCreator)\n",
    "graph.add_node(\"scene5imagecreator\",scene5ImageCreator)\n",
    "\n",
    "\n",
    "graph.set_entry_point(\"usersprompt\")\n",
    "graph.add_conditional_edges(\"usersprompt\",gradeThePrompt,[END,\"storycreator\"])\n",
    "graph.add_edge(\"storycreator\",\"titleimagecreator\")\n",
    "graph.add_edge(\"titleimagecreator\",END)\n",
    "graph.add_edge(\"storycreator\",\"scenescreator\")\n",
    "graph.add_edge(\"scenescreator\",\"scene1imagecreator\")\n",
    "graph.add_edge(\"scene1imagecreator\",\"scene2imagecreator\")\n",
    "graph.add_edge(\"scene2imagecreator\",\"scene3imagecreator\")\n",
    "graph.add_edge(\"scene3imagecreator\",\"scene4imagecreator\")\n",
    "graph.add_edge(\"scene4imagecreator\",\"scene5imagecreator\")\n",
    "graph.add_edge(\"scene5imagecreator\",END)\n",
    "\n",
    "app = graph.compile()\n",
    "\n"
   ]
  },
  {
   "cell_type": "code",
   "execution_count": 53,
   "id": "327353d2",
   "metadata": {},
   "outputs": [
    {
     "data": {
      "image/png": "[encoded data removed]",
      "text/plain": [
       "<IPython.core.display.Image object>"
      ]
     },
     "metadata": {},
     "output_type": "display_data"
    }
   ],
   "source": [
    "from IPython.display import Image, display\n",
    "from langchain_core.runnables.graph import MermaidDrawMethod\n",
    "\n",
    "display(\n",
    "    Image(\n",
    "        app.get_graph().draw_mermaid_png(\n",
    "            draw_method=MermaidDrawMethod.API\n",
    "        )\n",
    "    )\n",
    ")"
   ]
  },
  {
   "cell_type": "code",
   "execution_count": 54,
   "id": "69658d1d",
   "metadata": {},
   "outputs": [
    {
     "name": "stdout",
     "output_type": "stream",
     "text": [
      "Accessing User's prompt...\n",
      "Analysing the User's Prompt...\n",
      "Entering Story Creation Node...\n",
      "Story Created...\n",
      "Entering Scenes Creation Node... \n",
      "Entering Title Image Creation Node...\n",
      "\n",
      "    Create a Title page of the Book for this story book,\n",
      "    - Anywhere in the image place this title : 'The Web of Emotions' **ALWAYS INCLUDE THIS TITLE IN THE IMAGE** \n",
      "    -Make Sure Texts you create in the image is accurate and not a gibberish so focus more on that\n",
      "    -Dont Explicitly name things like 'Title of the book' near the title \n",
      "    - Only extract the theme from the below context\n",
      " Character 1: Alex - A 25-year-old tall, dark-haired, and blue-eyed young man with a strong build and a charming smile. He is kind, loyal, and always ready to help others. He loves to wear casual clothes and has a passion for music. \n",
      " Character 2: Emma - A 23-year-old beautiful, blonde-haired, and green-eyed young woman with a petite build and a sweet smile. She is gentle, caring, and always looks out for others. She loves to wear bright dresses and has a passion for art. \n",
      " Character 3: Ryan - A 27-year-old handsome, brown-haired, and brown-eyed young man with a lean build and a cunning smile. He is ambitious, ruthless, and will stop at nothing to get what he wants. He loves to wear formal clothes and has a passion for power.\n",
      "\n",
      "Title: The Web of Emotions \n",
      " Alex and Emma had been the best of friends since college. They shared everything with each other, from their deepest secrets to their wildest dreams. Their friendship was pure and strong, and everyone in town looked up to them as a perfect example of true friendship. One day, Ryan, a wealthy businessman, entered their lives. He was charming and charismatic, and Emma was immediately drawn to him. Alex, however, was wary of Ryan's intentions and warned Emma to be cautious. But Emma was smitten, and soon, she and Ryan started dating. As time passed, Alex noticed that Emma was changing. She was no longer the kind and caring person he once knew. Ryan's influence had turned her into a selfish and arrogant person. Alex tried to talk to her, but she wouldn't listen. The friendship that once meant the world to her was now nothing but a distant memory. Alex was heartbroken. He felt betrayed and abandoned by his best friend. He started to distance himself from Emma, and soon, they lost touch. Ryan, on the other hand, was thrilled to see the rift between Alex and Emma. He had always hated Alex, and now, he had finally succeeded in driving a wedge between them. But little did Ryan know that Alex's love and loyalty would ultimately prevail. Emma soon realized her mistake and tried to make amends with Alex. But Alex had been hurt too deeply, and it took him a long time to forgive her. Meanwhile, Ryan's true nature was exposed, and Emma was left heartbroken and ashamed. In the end, Alex and Emma's friendship emerged stronger than ever, and they learned a valuable lesson - that true friendship can withstand even the strongest of storms, but it takes courage and forgiveness to rebuild what's been broken.\n",
      "\n",
      "\n",
      "Created Scenes\n",
      "scenes=['Scene 1: Alex and Emma walking together on a sunny day, laughing and chatting, with a bright blue sky in the background.', 'Scene 2: Ryan, dressed in a formal suit, standing in front of a luxurious car, with a sly smile on his face.', \"Scene 3: Emma, wearing a bright yellow dress, sitting on a couch, looking confused and torn, with Ryan's influence evident on her face.\", 'Scene 4: Alex, sitting alone on a bench, looking sad and heartbroken, with a guitar lying next to him.', 'Scene 5: Alex and Emma standing together, holding hands, with a warm sunset in the background, symbolizing their rekindled friendship.'] voiceovers=['The bond between Alex and Emma was unbreakable, or so it seemed.', \"Ryan's charm and charisma hid a sinister intent, one that would change the course of their lives forever.\", \"As Emma fell deeper under Ryan's spell, Alex's warnings fell on deaf ears.\", 'The pain of betrayal and heartbreak drove Alex away from the one person he trusted most.', 'In the end, love and forgiveness prevailed, and the web of emotions that once entangled them was broken.']\n",
      "Created a Title Image....\n",
      "Entering Scene 1 Image Creation Node...\n",
      "\n",
      "\n",
      "Scene 1: Alex and Emma walking together on a sunny day, laughing and chatting, with a bright blue sky in the background.\n",
      "\n",
      "system_message: \n",
      "You are a creative AI director who is best at setting the scene from imagination to image.\n",
      "create the scene mentioned , you will have a context of what happened before and what is the current scene\n",
      "\n",
      "These are the Characters in the Story:\n",
      " Character 1: Alex - A 25-year-old tall, dark-haired, and blue-eyed young man with a strong build and a charming smile. He is kind, loyal, and always ready to help others. He loves to wear casual clothes and has a passion for music. \n",
      " Character 2: Emma - A 23-year-old beautiful, blonde-haired, and green-eyed young woman with a petite build and a sweet smile. She is gentle, caring, and always looks out for others. She loves to wear bright dresses and has a passion for art. \n",
      " Character 3: Ryan - A 27-year-old handsome, brown-haired, and brown-eyed young man with a lean build and a cunning smile. He is ambitious, ruthless, and will stop at nothing to get what he wants. He loves to wear formal clothes and has a passion for power.\n",
      "\n",
      "\n",
      "\n",
      "created scene 1 image\n",
      "Entering Scene 2 Image Creation Node...\n",
      "\n",
      "\n",
      "Scene 2: Ryan, dressed in a formal suit, standing in front of a luxurious car, with a sly smile on his face.\n",
      "\n",
      "system_message: \n",
      "You are a creative AI director who is best at setting the scene from imagination to image.\n",
      "create the scene mentioned , you will have a context of what happened before and what is the current scene\n",
      "\n",
      "These are the Characters in the Story:\n",
      " Character 1: Alex - A 25-year-old tall, dark-haired, and blue-eyed young man with a strong build and a charming smile. He is kind, loyal, and always ready to help others. He loves to wear casual clothes and has a passion for music. \n",
      " Character 2: Emma - A 23-year-old beautiful, blonde-haired, and green-eyed young woman with a petite build and a sweet smile. She is gentle, caring, and always looks out for others. She loves to wear bright dresses and has a passion for art. \n",
      " Character 3: Ryan - A 27-year-old handsome, brown-haired, and brown-eyed young man with a lean build and a cunning smile. He is ambitious, ruthless, and will stop at nothing to get what he wants. He loves to wear formal clothes and has a passion for power.\n",
      "\n",
      "\n",
      "\n",
      "created scene 2 image\n",
      "Entering Scene 3 Image Creation Node...\n",
      "\n",
      "\n",
      "Scene 3: Emma, wearing a bright yellow dress, sitting on a couch, looking confused and torn, with Ryan's influence evident on her face.\n",
      "\n",
      "system_message: \n",
      "You are a creative AI director who is best at setting the scene from imagination to image.\n",
      "create the scene mentioned , you will have a context of what happened before and what is the current scene\n",
      "\n",
      "These are the Characters in the Story:\n",
      " Character 1: Alex - A 25-year-old tall, dark-haired, and blue-eyed young man with a strong build and a charming smile. He is kind, loyal, and always ready to help others. He loves to wear casual clothes and has a passion for music. \n",
      " Character 2: Emma - A 23-year-old beautiful, blonde-haired, and green-eyed young woman with a petite build and a sweet smile. She is gentle, caring, and always looks out for others. She loves to wear bright dresses and has a passion for art. \n",
      " Character 3: Ryan - A 27-year-old handsome, brown-haired, and brown-eyed young man with a lean build and a cunning smile. He is ambitious, ruthless, and will stop at nothing to get what he wants. He loves to wear formal clothes and has a passion for power.\n",
      "\n",
      "\n",
      "\n",
      "created scene 3 image\n",
      "Entering Scene 4 Image Creation Node...\n",
      "\n",
      "\n",
      "Scene 4: Alex, sitting alone on a bench, looking sad and heartbroken, with a guitar lying next to him.\n",
      "\n",
      "system_message: \n",
      "You are a creative AI director who is best at setting the scene from imagination to image.\n",
      "create the scene mentioned , you will have a context of what happened before and what is the current scene\n",
      "\n",
      "These are the Characters in the Story:\n",
      " Character 1: Alex - A 25-year-old tall, dark-haired, and blue-eyed young man with a strong build and a charming smile. He is kind, loyal, and always ready to help others. He loves to wear casual clothes and has a passion for music. \n",
      " Character 2: Emma - A 23-year-old beautiful, blonde-haired, and green-eyed young woman with a petite build and a sweet smile. She is gentle, caring, and always looks out for others. She loves to wear bright dresses and has a passion for art. \n",
      " Character 3: Ryan - A 27-year-old handsome, brown-haired, and brown-eyed young man with a lean build and a cunning smile. He is ambitious, ruthless, and will stop at nothing to get what he wants. He loves to wear formal clothes and has a passion for power.\n",
      "\n",
      "\n",
      "\n",
      "created scene 4 image\n",
      "Entering Scene 5 Image Creation Node...\n",
      "\n",
      "\n",
      "Scene 5: Alex and Emma standing together, holding hands, with a warm sunset in the background, symbolizing their rekindled friendship.\n",
      "\n",
      "system_message: \n",
      "You are a creative AI director who is best at setting the scene from imagination to image.\n",
      "create the scene mentioned , you will have a context of what happened before and what is the current scene\n",
      "\n",
      "These are the Characters in the Story:\n",
      " Character 1: Alex - A 25-year-old tall, dark-haired, and blue-eyed young man with a strong build and a charming smile. He is kind, loyal, and always ready to help others. He loves to wear casual clothes and has a passion for music. \n",
      " Character 2: Emma - A 23-year-old beautiful, blonde-haired, and green-eyed young woman with a petite build and a sweet smile. She is gentle, caring, and always looks out for others. She loves to wear bright dresses and has a passion for art. \n",
      " Character 3: Ryan - A 27-year-old handsome, brown-haired, and brown-eyed young man with a lean build and a cunning smile. He is ambitious, ruthless, and will stop at nothing to get what he wants. He loves to wear formal clothes and has a passion for power.\n",
      "\n",
      "\n",
      "\n",
      "created scene 5 image\n"
     ]
    }
   ],
   "source": [
    "book = app.invoke({\"users_prompt\":\"Create a Story Depicting FriendShip , Love and Hatred \"})"
   ]
  },
  {
   "cell_type": "code",
   "execution_count": 55,
   "id": "77b78deb",
   "metadata": {},
   "outputs": [
    {
     "data": {
      "text/plain": [
       "\"Title: The Web of Emotions \\n Alex and Emma had been the best of friends since college. They shared everything with each other, from their deepest secrets to their wildest dreams. Their friendship was pure and strong, and everyone in town looked up to them as a perfect example of true friendship. One day, Ryan, a wealthy businessman, entered their lives. He was charming and charismatic, and Emma was immediately drawn to him. Alex, however, was wary of Ryan's intentions and warned Emma to be cautious. But Emma was smitten, and soon, she and Ryan started dating. As time passed, Alex noticed that Emma was changing. She was no longer the kind and caring person he once knew. Ryan's influence had turned her into a selfish and arrogant person. Alex tried to talk to her, but she wouldn't listen. The friendship that once meant the world to her was now nothing but a distant memory. Alex was heartbroken. He felt betrayed and abandoned by his best friend. He started to distance himself from Emma, and soon, they lost touch. Ryan, on the other hand, was thrilled to see the rift between Alex and Emma. He had always hated Alex, and now, he had finally succeeded in driving a wedge between them. But little did Ryan know that Alex's love and loyalty would ultimately prevail. Emma soon realized her mistake and tried to make amends with Alex. But Alex had been hurt too deeply, and it took him a long time to forgive her. Meanwhile, Ryan's true nature was exposed, and Emma was left heartbroken and ashamed. In the end, Alex and Emma's friendship emerged stronger than ever, and they learned a valuable lesson - that true friendship can withstand even the strongest of storms, but it takes courage and forgiveness to rebuild what's been broken.\""
      ]
     },
     "execution_count": 55,
     "metadata": {},
     "output_type": "execute_result"
    }
   ],
   "source": [
    "book[\"story\"].story\n"
   ]
  },
  {
   "cell_type": "code",
   "execution_count": 56,
   "id": "b3d0e517",
   "metadata": {},
   "outputs": [
    {
     "name": "stdout",
     "output_type": "stream",
     "text": [
      "0 Scene 1: Alex and Emma walking together on a sunny day, laughing and chatting, with a bright blue sky in the background.\n",
      "1 Scene 2: Ryan, dressed in a formal suit, standing in front of a luxurious car, with a sly smile on his face.\n",
      "2 Scene 3: Emma, wearing a bright yellow dress, sitting on a couch, looking confused and torn, with Ryan's influence evident on her face.\n",
      "3 Scene 4: Alex, sitting alone on a bench, looking sad and heartbroken, with a guitar lying next to him.\n",
      "4 Scene 5: Alex and Emma standing together, holding hands, with a warm sunset in the background, symbolizing their rekindled friendship.\n"
     ]
    }
   ],
   "source": [
    "for i,scene in enumerate(book[\"scenes\"].scenes):\n",
    "    print(i,scene)"
   ]
  },
  {
   "cell_type": "code",
   "execution_count": 57,
   "id": "6c4f4b48",
   "metadata": {},
   "outputs": [
    {
     "name": "stdout",
     "output_type": "stream",
     "text": [
      "0 The bond between Alex and Emma was unbreakable, or so it seemed.\n",
      "1 Ryan's charm and charisma hid a sinister intent, one that would change the course of their lives forever.\n",
      "2 As Emma fell deeper under Ryan's spell, Alex's warnings fell on deaf ears.\n",
      "3 The pain of betrayal and heartbreak drove Alex away from the one person he trusted most.\n",
      "4 In the end, love and forgiveness prevailed, and the web of emotions that once entangled them was broken.\n"
     ]
    }
   ],
   "source": [
    "for i,scene in enumerate(book[\"scenes\"].voiceovers):\n",
    "    print(i,scene)"
   ]
  },
  {
   "cell_type": "code",
   "execution_count": 15,
   "id": "da42eace",
   "metadata": {},
   "outputs": [
    {
     "name": "stdout",
     "output_type": "stream",
     "text": [
      "Character 1: Rohan - 12 years old, short and lean, with curly brown hair and bright green eyes. He is a happy-go-lucky boy who loves playing pranks on his friends. Character 2: Aryan - 12 years old, tall and athletic, with short black hair and piercing blue eyes. He is a clever and resourceful boy who is always there to help his friends. Ghoul: Kali - a dark and sinister entity with long, bony fingers and glowing red eyes. It has the ability to disguise itself as anyone it desires.\n"
     ]
    }
   ],
   "source": [
    "print(book[\"story\"].characterDescription)"
   ]
  },
  {
   "cell_type": "code",
   "execution_count": 16,
   "id": "cc50f116",
   "metadata": {},
   "outputs": [
    {
     "data": {
      "text/plain": [
       "\"Rohan and Aryan were the best of friends since kindergarten. They did everything together, from playing soccer to exploring the woods behind their school. One day, Aryan fell ill and passed away, leaving Rohan devastated. But what Rohan didn't know was that a ghoul named Kali had been watching them from the shadows. Kali, drawn to the strong bond between the two friends, decided to disguise itself as Aryan to deceive Rohan. At first, Rohan was overjoyed to have his friend back, but he soon began to notice strange occurrences. Aryan would often disappear during the night, and when Rohan would ask him where he went, Aryan would change the subject. Rohan's instincts told him something was off, but he couldn't shake off the feeling that his friend was back. One night, Rohan decided to follow Aryan and discovered the shocking truth. Kali, in its true form, was lurking in the shadows, waiting for the perfect moment to strike. Rohan was horrified, but he didn't want to give up on his friend. He decided to confront Kali, and in a surprising turn of events, Kali began to reveal its true intentions. It had been watching Rohan and Aryan's friendship for years and was fascinated by the bond they shared. Kali wanted to learn more about human relationships and understand what it meant to be a true friend. Rohan, seeing an opportunity, proposed a deal to Kali. He would teach Kali about friendship and humanity if it promised to leave the living alone and not harm anyone else. Kali, intrigued by the offer, agreed to the deal. Over the next few weeks, Rohan and Kali formed an unlikely friendship. Rohan taught Kali about empathy, trust, and loyalty, and in return, Kali shared its knowledge of the supernatural world. As their bond grew stronger, Kali began to transform, its dark energy slowly fading away. In the end, Kali became a benevolent entity, using its powers to protect the living and keep the supernatural forces at bay. Rohan and Kali's friendship became a beacon of hope, proving that even the most unlikely of creatures could change and find redemption.\""
      ]
     },
     "execution_count": 16,
     "metadata": {},
     "output_type": "execute_result"
    }
   ],
   "source": [
    "book[\"story\"].story"
   ]
  },
  {
   "cell_type": "code",
   "execution_count": 47,
   "id": "165fcedf",
   "metadata": {},
   "outputs": [
    {
     "name": "stdout",
     "output_type": "stream",
     "text": [
      "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\n"
     ]
    }
   ],
   "source": [
    "from together import Together\n",
    "\n",
    "client = Together()\n",
    "response = client.images.generate(\n",
    "    prompt=\"Cats eating popcorn\",\n",
    "    model=\"black-forest-labs/FLUX.1-schnell-free\",\n",
    "    steps=4,\n",
    "    n=4,\n",
    "    width=352,   # multiple of 16\n",
    "    height=256,\n",
    "    response_format=\"b64_json\"\n",
    ")\n",
    "print(response.data[0].b64_json)"
   ]
  },
  {
   "cell_type": "code",
   "execution_count": 48,
   "id": "7131df99",
   "metadata": {},
   "outputs": [],
   "source": [
    "import base64\n",
    "from PIL import Image\n",
    "from io import BytesIO\n",
    "# Decode the base64 string to bytes\n",
    "image_bytes = base64.b64decode(response.data[0].b64_json)\n",
    "\n",
    "# Open the image using PIL\n",
    "image = Image.open(BytesIO(image_bytes))\n",
    "\n",
    "# Optional: Save the image locally\n",
    "image.save(\"output_image.png\")\n",
    "\n",
    "# Optional: Show the image\n",
    "image.show()\n"
   ]
  },
  {
   "cell_type": "code",
   "execution_count": null,
   "id": "191417c5",
   "metadata": {},
   "outputs": [],
   "source": []
  }
 ],
 "metadata": {
  "kernelspec": {
   "display_name": "venv",
   "language": "python",
   "name": "python3"
  },
  "language_info": {
   "codemirror_mode": {
    "name": "ipython",
    "version": 3
   },
   "file_extension": ".py",
   "mimetype": "text/x-python",
   "name": "python",
   "nbconvert_exporter": "python",
   "pygments_lexer": "ipython3",
   "version": "3.12.3"
  }
 },
 "nbformat": 4,
 "nbformat_minor": 5
}
