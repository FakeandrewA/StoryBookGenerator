{
 "cells": [
  {
   "cell_type": "markdown",
   "id": "66a5d55d",
   "metadata": {},
   "source": [
    "#### Story Generator -> \n",
    "#####     Character Generator (Public for all prompts to the image generator) (Done)\n",
    "#####      Story generation as Scenes with all characters (Done)\n",
    "#####      Title of the Book Generator (done )\n",
    "#####       Create a Graph workflow (done)\n",
    "To Do:\n",
    "\n",
    "create a reproducilble chain for creating a image of a scene\n",
    "research for TTS models\n",
    "os.env"
   ]
  },
  {
   "cell_type": "code",
   "execution_count": null,
   "id": "79340f46",
   "metadata": {},
   "outputs": [],
   "source": [
    "users_prompt = input(\"Please Enter a description of what you want the story to be about: \")\n",
    "from dotenv import load_dotenv\n",
    "from langchain_groq import ChatGroq\n",
    "from langchain_core.prompts import ChatPromptTemplate\n",
    "from pydantic import BaseModel, Field\n",
    "load_dotenv()\n",
    "\n",
    "##ChatPromptTemplates\n",
    "usersPromptGradingTemplate = ChatPromptTemplate.from_messages([\n",
    "    (\"system\",\"You are amazing at detecting flaws, see the user's prompt and\"\n",
    "    \"detect if the prompt has anything relevent about story generation if yes return yes else return no\"),\n",
    "    (\"human\",\"user's prompt:\\n{users_prompt}\")\n",
    "])\n",
    "\n",
    "storyCreationTemplate = ChatPromptTemplate.from_messages([\n",
    "    (\"system\",\"\"\"You are very Creative at creating a story even from a one line, take in user's prompt create a story based on what user mentioned,\n",
    "     follow a structured approach ,\n",
    "     first create the characters of the story with atmost details, \n",
    "     then use those Characters to create a story based on uses's prompt with 350-500 words, \n",
    "     Focus On these Points for the Story:\n",
    "        - A well developed characters\n",
    "        - A good Story line with some moral ending\n",
    "            so from the start keep in mind that there is a moral ending so develop the story line based on that\n",
    "        - Provide a Title for the Story's FrontPage\n",
    "     \"\"\"),\n",
    "     (\"human\",\"user's prompt:\\n{users_prompt}\")\n",
    "])\n",
    "\n",
    "scenesCreationTemplate = ChatPromptTemplate.from_messages([\n",
    "    (\"system\",\"\"\"You are a excellent AI director, Who splits a given story into 5 well written scenes and \n",
    "     respective 5 voiceovers for the scenes,Make sure to create the scenes with well format and structure \n",
    "     because it will be given to a image generating model to generate the image for the scene also make \n",
    "     sure to not over prompt as it will make the model confused\"\"\"),\n",
    "     (\"human\",\"Story:\\n\\nTitle:\\n{title}\\nCharacters:\\n{character_description}\\nStory:\\n{story}\")\n",
    "])\n",
    "\n",
    "\n",
    "##models\n",
    "class GradeUserPrompt(BaseModel):\n",
    "    \"\"\"You are an intelligent AI, Our company is a story generator so we take in the user's prompt and generate a story ,therefore \n",
    "    you will see if a user's prompt is about generating a story or is it irrelevant about story generation, if yes the user's prompt is about story generation return yes else return no\"\"\"\n",
    "\n",
    "    isStory:str = Field(description=\"Is user's prompt about story generation, yes or no\")\n",
    "\n",
    "class Story(BaseModel):\n",
    "    \"\"\"You are an creative AI, Our company is a story generator so we take in the user's prompt and generate a story, therefore for a user's provided story description,\n",
    "    elaborate upon the prompt and create a story with 350-500 words maximum also generate the story's characters with detailed description from head to toe , then generate the story\n",
    "    also make sure to give the story a title.\n",
    "    \"\"\"\n",
    "\n",
    "    title:str = Field(description=\"A Great and catchy Title for the story\")\n",
    "    characterDescription:str = Field(description=\"A detailed description of characters from the story you are about to create.\")\n",
    "    story:str = Field(description=\"A story of 350-500 words with the characters you created.\")\n",
    "\n",
    "class Scenes(BaseModel):\n",
    "    \"\"\"You are an AI director, You take a story and create a narrative, You excel at splitting a given story into 5 different Scene and respective VoiceOver narrative for the 5 scences\n",
    "    Make Sure:\n",
    "        - The Scenes that you create are well written because that text will be given to a image generating model to generate the scene as image. also make sure you dont over prompt as well because the model will find it hard to follow\n",
    "        - also generate the voiceovers that is relevant to the scene\n",
    "        - there are cost constrains so you are to only generate 5 scenes and 5 respective voiceovers\n",
    "    \"\"\"\n",
    "    scene1:str = Field(description=\"Scene 1 of the story with atmost detail for image generator\")\n",
    "    voiceover1:str = Field(description=\"Narrative for the Scene 1\")\n",
    "\n",
    "    scene2:str = Field(description=\"Scene 2 of the story with atmost detail for image generator\")\n",
    "    voiceover2:str = Field(description=\"Narrative for the Scene 2\")\n",
    "\n",
    "    scene3:str = Field(description=\"Scene 3 of the story with atmost detail for image generator\")\n",
    "    voiceover3:str = Field(description=\"Narrative for the Scene 3\")\n",
    "\n",
    "    scene4:str = Field(description=\"Scene 4 of the story with atmost detail for image generator\")\n",
    "    voiceover4:str = Field(description=\"Narrative for the Scene 4\")\n",
    "\n",
    "    scene5:str = Field(description=\"Scene 5 of the story with atmost detail for image generator\")\n",
    "    voiceover5:str = Field(description=\"Narrative for the Scene 5\")\n",
    "\n",
    "## Uses's Prompt Grading System and Story Creation System\n",
    "usersPromptGrader = ChatGroq(model=\"llama3-70b-8192\").with_structured_output(GradeUserPrompt)\n",
    "usersPromptGradingChain = usersPromptGradingTemplate | usersPromptGrader\n",
    "usersPromptGrade = usersPromptGradingChain.invoke({\"users_prompt\":users_prompt})\n",
    "\n",
    "if usersPromptGrade.isStory.strip().lower() == \"yes\":\n",
    "    #Story Creating System\n",
    "    storyCreator = ChatGroq(model=\"llama3-70b-8192\").with_structured_output(Story)\n",
    "    storyCreationChain = storyCreationTemplate | storyCreator\n",
    "    story = storyCreationChain.invoke({\"users_prompt\":users_prompt})\n",
    "\n",
    "    ## Scene Creation System\n",
    "    scenesCreator = ChatGroq(model=\"llama3-70b-8192\").with_structured_output(Scenes)\n",
    "    scenesCreationChain = scenesCreationTemplate | scenesCreator\n",
    "    scenes = scenesCreationChain.invoke({\"character_description\":story.characterDescription,\n",
    "                                         \"story\":story.story,\n",
    "                                         \"title\":story.title})\n",
    "    \n",
    "\n",
    "else:\n",
    "    print(\"please enter a brief description about your story for a quality story\")\n",
    "\n",
    "\n",
    "\n",
    "\n"
   ]
  },
  {
   "cell_type": "code",
   "execution_count": 54,
   "id": "f403ef3c",
   "metadata": {},
   "outputs": [
    {
     "data": {
      "text/plain": [
       "Story(title='A Bridge Between Two Worlds', characterDescription='Rohan, a 25-year-old Indian software engineer, with short black hair and brown eyes, wearing a traditional Indian kurta and jeans. He has a strong sense of curiosity and adventure. On the other hand, Emily, a 28-year-old American journalist, with long blonde hair and blue eyes, wearing a casual American outfit. She is confident and determined. Rohan and Emily meet at a cultural exchange program in New York City.', story=\"Title: A Bridge Between Two Worlds\\n\\nRohan, a young Indian software engineer, had always been fascinated by the American culture. He jumped at the opportunity to participate in a cultural exchange program in New York City. Meanwhile, Emily, a determined American journalist, was covering the program, eager to learn about the Indian perspective. Their paths crossed at a traditional Indian dinner, where Rohan was introducing the guests to the intricacies of Indian cuisine. Emily was impressed by Rohan's warm hospitality and his eagerness to share his culture. As they conversed, Rohan learned about Emily's passion for storytelling and her desire to explore the world beyond America. They exchanged numbers, and Emily invited Rohan to explore the city with her.\\n\\nAs they wandered through the bustling streets of New York, Rohan and Emily discovered the similarities and differences between their cultures. They laughed over the misadventures of trying new foods and marveled at the towering skyscrapers. Emily introduced Rohan to the American way of life, from baseball games to jazz concerts. Rohan, in turn, shared the vibrant colors and rhythms of India, from Bollywood dance to yoga practices. Their friendship blossomed, and they realized that despite their different backgrounds, they shared a common desire to learn and grow.\\n\\nAs the program came to an end, Rohan and Emily decided to stay in touch. They planned to meet again, this time in India, to continue their cultural exchange. The experience had taught them that even in a world of differences, there is always a bridge to be built, a connection to be made. And they were determined to be that bridge, to foster understanding and friendship between their two nations.\")"
      ]
     },
     "execution_count": 54,
     "metadata": {},
     "output_type": "execute_result"
    }
   ],
   "source": [
    "story"
   ]
  },
  {
   "cell_type": "code",
   "execution_count": null,
   "id": "f721663b",
   "metadata": {},
   "outputs": [
    {
     "name": "stdout",
     "output_type": "stream",
     "text": [
      "Loaded as API: https://black-forest-labs-flux-1-schnell.hf.space ✔\n"
     ]
    },
    {
     "data": {
      "text/plain": [
       "<bound method Client.view_api of Client.predict() Usage Info\n",
       "---------------------------\n",
       "Named API endpoints: 1\n",
       "\n",
       " - predict(prompt, seed, randomize_seed, width, height, num_inference_steps, api_name=\"/infer\") -> (result, seed)\n",
       "    Parameters:\n",
       "     - [Textbox] prompt: str (required)  \n",
       "     - [Slider] seed: float (not required, defaults to:   0)  (numeric value between 0 and 2147483647) \n",
       "     - [Checkbox] randomize_seed: bool (not required, defaults to:   True)  \n",
       "     - [Slider] width: float (not required, defaults to:   1024)  (numeric value between 256 and 2048) \n",
       "     - [Slider] height: float (not required, defaults to:   1024)  (numeric value between 256 and 2048) \n",
       "     - [Slider] num_inference_steps: float (not required, defaults to:   4)  (numeric value between 1 and 50) \n",
       "    Returns:\n",
       "     - [Image] result: filepath \n",
       "     - [Slider] seed: float (numeric value between 0 and 2147483647) \n",
       ">"
      ]
     },
     "execution_count": 4,
     "metadata": {},
     "output_type": "execute_result"
    }
   ],
   "source": [
    "from gradio_client import Client\n",
    "from dotenv import load_dotenv\n",
    "load_dotenv()\n",
    "import os\n",
    "client = Client(\"black-forest-labs/FLUX.1-Schnell\",hf_token=os.getenv(\"HF_TOKEN\"))\n",
    "client.view_api\n"
   ]
  },
  {
   "cell_type": "code",
   "execution_count": 55,
   "id": "fa215dcc",
   "metadata": {},
   "outputs": [],
   "source": [
    "\n",
    "prompt = f\"\"\"{story.characterDescription}\\n\\n{story.story}\\n\\\n",
    "    Create a Title page of the Book for this story book,\n",
    "    - Anywhere in the image place this title : '{story.title}'  \n",
    "    -Make Sure Texts you create in the image is accurate and not a gibberish so focus more on that\n",
    "    -Dont Explicitly name things like 'Title of the book' near the title \n",
    "    \"\"\"\n",
    " "
   ]
  },
  {
   "cell_type": "code",
   "execution_count": 53,
   "id": "3a46e549",
   "metadata": {},
   "outputs": [
    {
     "ename": "NameError",
     "evalue": "name 'prompt' is not defined",
     "output_type": "error",
     "traceback": [
      "\u001b[31m---------------------------------------------------------------------------\u001b[39m",
      "\u001b[31mNameError\u001b[39m                                 Traceback (most recent call last)",
      "\u001b[36mCell\u001b[39m\u001b[36m \u001b[39m\u001b[32mIn[53]\u001b[39m\u001b[32m, line 1\u001b[39m\n\u001b[32m----> \u001b[39m\u001b[32m1\u001b[39m \u001b[43mprompt\u001b[49m\n",
      "\u001b[31mNameError\u001b[39m: name 'prompt' is not defined"
     ]
    }
   ],
   "source": [
    "prompt"
   ]
  },
  {
   "cell_type": "code",
   "execution_count": 5,
   "id": "c0946d07",
   "metadata": {},
   "outputs": [],
   "source": [
    "from PIL import Image\n",
    "filepath = client.predict(\n",
    "    prompt = \"Create a image having a Crow and Goose\",\n",
    "    randomize_seed=True,\n",
    "    num_inference_steps = 10\n",
    ")\n",
    "image = Image.open(filepath[0])\n",
    "image.save(\"Titleofthebook.png\")"
   ]
  },
  {
   "cell_type": "code",
   "execution_count": 6,
   "id": "48999579",
   "metadata": {},
   "outputs": [
    {
     "name": "stdout",
     "output_type": "stream",
     "text": [
      "Loaded as API: https://black-forest-labs-flux-1-schnell.hf.space ✔\n"
     ]
    }
   ],
   "source": [
    "import uuid\n",
    "\n",
    "from typing import TypedDict,List , NotRequired\n",
    "from langgraph.graph import END,StateGraph\n",
    "from langchain_core.prompts import PromptTemplate\n",
    "from storygenerator.schemas import Story,Scenes\n",
    "from storygenerator.chains import scenesCreationChain,storyCreationChain,usersPromptGradingChain\n",
    "from storygenerator.imagegenerator import generateImage\n",
    "\n",
    "## State of the Graph\n",
    "class BookState(TypedDict):\n",
    "    users_prompt : str\n",
    "    story: NotRequired[Story]\n",
    "    scenes: NotRequired[Scenes]\n",
    "    grade: NotRequired[str]\n",
    "    users_id : NotRequired[int]\n",
    "\n",
    "##templates\n",
    "titleImageGenerationTemplate = PromptTemplate.from_template(\"\"\"\n",
    "{character_description}\\n\\n{story}\\n\\\n",
    "    Create a Title page of the Book for this story book,\n",
    "    - Anywhere in the image place this title : '{title}'  \n",
    "    -Make Sure Texts you create in the image is accurate and not a gibberish so focus more on that\n",
    "    -Dont Explicitly name things like 'Title of the book' near the title \n",
    "\"\"\") \n",
    "\n",
    "## Nodes\n",
    "def usersPrompt(state:BookState) -> BookState:\n",
    "    grade = usersPromptGradingChain.invoke({\"users_prompt\":state[\"users_prompt\"]})\n",
    "    return {\n",
    "            \"users_prompt\":state[\"users_prompt\"],\n",
    "            \"grade\" : grade.isStory.strip().lower()\n",
    "        }\n",
    "\n",
    "def gradeThePrompt(state):\n",
    "    if (state[\"grade\"]==\"no\"):\n",
    "        print(\"Ending the Graph... , User's request is Not Valid\")\n",
    "        return END\n",
    "    else:\n",
    "        print(\"Entering Story Creation Node...\")\n",
    "        return \"storycreator\"\n",
    "    \n",
    "def storyCreator(state:BookState) -> BookState:\n",
    "    story = storyCreationChain.invoke({\"users_prompt\":state[\"users_prompt\"]})\n",
    "    print(\"Story Created ...\")\n",
    "    print(\"Entering Title Image Creation Node...\")\n",
    "    return {\"users_prompt\":state[\"users_prompt\"],\"grade\" : state[\"grade\"],\"story\":story,\"users_id\":uuid.uuid4()}\n",
    "\n",
    "def titleImageCreator(state:BookState) -> BookState:\n",
    "    story = state[\"story\"]\n",
    "    prompt = titleImageGenerationTemplate.format(**{\"character_description\":story.characterDescription,\"story\":story.story,\"title\":story.title})\n",
    "    generateImage(prompt, f\"stories/{state['users_id']}\",\"title.png\")\n",
    "    print(\"Created a Title Image....\")\n",
    "    return state\n",
    "\n",
    "\n",
    "\n",
    "\n",
    "\n",
    "\n",
    "\n",
    "\n",
    "graph = StateGraph(BookState)\n",
    "\n",
    "graph.add_node(\"usersprompt\",usersPrompt)\n",
    "graph.add_node(\"storycreator\",storyCreator)\n",
    "graph.add_node(\"titleimagecreator\",titleImageCreator)\n",
    "\n",
    "graph.set_entry_point(\"usersprompt\")\n",
    "graph.add_conditional_edges(\"usersprompt\",gradeThePrompt,[END,\"storycreator\"])\n",
    "graph.add_edge(\"storycreator\",\"titleimagecreator\")\n",
    "graph.add_edge(\"storycreator\",END)\n",
    "\n",
    "app = graph.compile()\n",
    "\n"
   ]
  },
  {
   "cell_type": "code",
   "execution_count": null,
   "id": "6f5050fc",
   "metadata": {},
   "outputs": [],
   "source": []
  },
  {
   "cell_type": "code",
   "execution_count": 7,
   "id": "327353d2",
   "metadata": {},
   "outputs": [
    {
     "data": {
      "image/png": "[encoded data removed]",
      "text/plain": [
       "<IPython.core.display.Image object>"
      ]
     },
     "metadata": {},
     "output_type": "display_data"
    }
   ],
   "source": [
    "from IPython.display import Image, display\n",
    "from langchain_core.runnables.graph import MermaidDrawMethod\n",
    "\n",
    "display(\n",
    "    Image(\n",
    "        app.get_graph().draw_mermaid_png(\n",
    "            draw_method=MermaidDrawMethod.API\n",
    "        )\n",
    "    )\n",
    ")"
   ]
  },
  {
   "cell_type": "code",
   "execution_count": 8,
   "id": "69658d1d",
   "metadata": {},
   "outputs": [
    {
     "name": "stdout",
     "output_type": "stream",
     "text": [
      "Entering Story Creation Node...\n",
      "Story Created ...\n",
      "Entering Title Image Creation Node...\n",
      "Created a Title Image....\n"
     ]
    }
   ],
   "source": [
    "book = app.invoke({\"users_prompt\":\"Create a Story based on a Mother and Her Children\"})"
   ]
  },
  {
   "cell_type": "code",
   "execution_count": 33,
   "id": "77b78deb",
   "metadata": {},
   "outputs": [
    {
     "data": {
      "text/plain": [
       "Story(title=\"A Mother's Love\", characterDescription='The story revolves around a loving mother, Maya, who is in her mid-30s. She has long, curly brown hair and warm, hazel eyes that sparkle with kindness. She wears a gentle smile on her face, which puts everyone at ease. Maya is a devoted mother to her three children: Akira, a 10-year-old boy with a mischievous grin and an adventurous spirit; Leela, a 7-year-old girl with a wild imagination and a love for storytelling; and baby Kaito, a 2-year-old ball of energy who is always getting into trouble.\\n', story=\"Title: A Mother's Love\\n\\nMaya lived for her children. She had sacrificed her career to raise them, and it was a decision she never regretted. One sunny afternoon, as they were playing in the backyard, Akira stumbled upon an old, mysterious-looking box buried beneath the swings. As they gathered around, Leela's eyes sparkled with excitement, and Kaito babbled in anticipation. Maya, sensing their curiosity, nodded, and together, they opened the box.\\n\\nInside, they found a beautiful, handmade quilt, intricately stitched with symbols and patterns that told a story of their own. As they unfolded it, a gentle breeze carried the whispers of their ancestors, sharing tales of love, courage, and perseverance. The quilt, it seemed, was a family heirloom, passed down through generations.\\n\\nAs they listened to the stories, Maya realized that her children were growing up, and it was time to pass on the family traditions and values to them. She decided to take them on a journey to their ancestral village, where they could learn about their roots and connect with their heritage.\\n\\nThe trip was a revelation for the children. They learned about their ancestors' struggles and triumphs, and how their love and sacrifices had shaped their family's history. As they sat around the campfire, listening to Maya's stories, they felt a deep sense of connection to their mother and their heritage.\\n\\nAs they returned home, the children looked at Maya with newfound appreciation. They realized that her love was not just a feeling, but a choice she made every day, sacrificing her own desires for their happiness. Maya, too, felt a sense of pride and fulfillment, knowing that she had passed on the family legacy to the next generation.\\n\\nIn the end, the mysterious box had brought them closer together, reminding them that a mother's love is the greatest inheritance of all.\")"
      ]
     },
     "execution_count": 33,
     "metadata": {},
     "output_type": "execute_result"
    }
   ],
   "source": [
    "book[\"story\"]"
   ]
  },
  {
   "cell_type": "code",
   "execution_count": null,
   "id": "b3d0e517",
   "metadata": {},
   "outputs": [],
   "source": []
  }
 ],
 "metadata": {
  "kernelspec": {
   "display_name": "venv",
   "language": "python",
   "name": "python3"
  },
  "language_info": {
   "codemirror_mode": {
    "name": "ipython",
    "version": 3
   },
   "file_extension": ".py",
   "mimetype": "text/x-python",
   "name": "python",
   "nbconvert_exporter": "python",
   "pygments_lexer": "ipython3",
   "version": "3.12.3"
  }
 },
 "nbformat": 4,
 "nbformat_minor": 5
}
