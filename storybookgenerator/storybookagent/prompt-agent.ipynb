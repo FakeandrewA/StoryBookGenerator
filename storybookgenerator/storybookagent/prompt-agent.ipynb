{
 "cells": [
  {
   "cell_type": "markdown",
   "id": "66a5d55d",
   "metadata": {},
   "source": [
    "#### Story Generator -> \n",
    "#####     Character Generator (Public for all prompts to the image generator) (Done)\n",
    "#####      Story generation as Scenes with all characters (Done)\n",
    "#####      Title of the Book Generator (done )\n",
    "#####       Create a Graph workflow (done)\n",
    "#####       Dynamic Story and Scenes Creation\n",
    "\n",
    "To Do:\n",
    "\n",
    "create a reproducilble chain for creating a image of a scene\n",
    "research for TTS models\n",
    "os.env\n",
    "edit the return\n",
    "problems:\n",
    "character inconsistency\n",
    "style of image changing\n",
    "Not enough context to bring the whole picture into the book"
   ]
  },
  {
   "cell_type": "code",
   "execution_count": null,
   "id": "48999579",
   "metadata": {},
   "outputs": [],
   "source": [
    "import uuid\n",
    "\n",
    "from typing import TypedDict,List , NotRequired\n",
    "from langgraph.graph import END,StateGraph\n",
    "from langchain_core.prompts import PromptTemplate\n",
    "from storygenerator.schemas import Story,Scenes\n",
    "from storygenerator.chains import scenesCreationChain,storyCreationChain,usersPromptGradingChain\n",
    "from storygenerator.imagegenerator import generateImage\n",
    "\n",
    "## State of the Graph\n",
    "class BookState(TypedDict):\n",
    "    users_prompt : str\n",
    "    story: NotRequired[Story]\n",
    "    scenes: NotRequired[Scenes]\n",
    "    grade: NotRequired[str]\n",
    "    users_id : NotRequired[int]\n",
    "    \n",
    "##templates\n",
    "titleImageGenerationTemplate = PromptTemplate.from_template(\"\"\"\n",
    "    create a cover page with image for the title - '{title}' \n",
    "    and the one line of the story book is - {oneline}     \n",
    "                                                                                                             \n",
    "    make sure:\n",
    "    -To place this title : '{title}' **ALWAYS INCLUDE THIS TITLE IN THE IMAGE** \n",
    "    -Make Sure Texts you create in the image is accurate and not a gibberish so focus more on that\n",
    "    -Dont Explicitly name things like 'Title of the book' near the title \n",
    "\"\"\") \n",
    "\n",
    "sceneImageGenerationTemplate = PromptTemplate.from_template(\"\"\"\n",
    "style_of_the_image : {style}\n",
    "                                                            \n",
    "{current_scene}\n",
    "                                                            \n",
    "system_message: \n",
    "You are a creative AI director who is best at setting the scene from imagination to image.\n",
    "create the scene mentioned , you will have a context of what happened before and what is the current scene \n",
    "- please capture the context of the previous scenes in the current scene if nessasary. \n",
    "- Make sure to get scene right with continuity from the characters , previous scenes\n",
    "- also make sure to generate the image in the {style} style.\n",
    "                                                            \n",
    "These are the Characters in the Story:\n",
    "{character_description}\n",
    "\n",
    "            \n",
    "Previous Scenes:\n",
    "{previous_scenes}                  \n",
    "\n",
    "\"\"\")\n",
    "\n",
    "## Nodes\n",
    "def usersPrompt(state:BookState) -> BookState:\n",
    "    print(\"Accessing User's prompt...\")\n",
    "    grade = usersPromptGradingChain.invoke({\"users_prompt\":state[\"users_prompt\"]})\n",
    "    state[\"grade\"] = grade.isStory.strip().lower()\n",
    "    return state\n",
    "\n",
    "def gradeThePrompt(state):\n",
    "    print(\"Analysing the User's Prompt...\")\n",
    "    if (state[\"grade\"]==\"no\"):\n",
    "        print(\"Ending the Graph... , User's request is Not Valid\")\n",
    "        return END\n",
    "    else:\n",
    "        return \"storycreator\"\n",
    "    \n",
    "def storyCreator(state:BookState) -> BookState:\n",
    "    print(\"Entering Story Creation Node...\")\n",
    "    story = storyCreationChain.invoke({\"users_prompt\":state[\"users_prompt\"]})\n",
    "    print(\"Story Created+++\")\n",
    "    \n",
    "    #### DEBUG\n",
    "    print(\"*\"*20)\n",
    "    print(\"TITLE:\",story.title)\n",
    "    print(\"CHARACTERS:\",story.characterDescription)\n",
    "    print(\"STORY:\",story.story)\n",
    "    print(\"STYLE:\",story.style)\n",
    "    print(\"ONELINE:\",story.oneline)\n",
    "    print(\"NUM_OF_SCENES:\",story.num_of_scenes)\n",
    "    print(\"*\"*20)\n",
    "    #### DEBUG\n",
    "\n",
    "    state[\"story\"] = story\n",
    "    state[\"users_id\"] = uuid.uuid4()\n",
    "    return state\n",
    "\n",
    "def titleImageCreator(state:BookState) -> BookState:\n",
    "    print(\"Entering Title Image Creation Node...\")\n",
    "    story = state[\"story\"]\n",
    "    prompt = titleImageGenerationTemplate.format(**{\"oneline\":story.oneline,\"character_description\":story.characterDescription,\"story\":story.story,\"title\":story.title})\n",
    "    print(prompt)\n",
    "    generateImage(prompt=prompt,filepath=f\"stories/{state[\"users_id\"]}\",filename=\"title.png\")\n",
    "    print(\"Created a Title Image+++\")\n",
    "    return {}\n",
    "\n",
    "def scenesCreator(state:BookState) -> BookState:\n",
    "    print(\"Entering Scenes Creation Node...\")\n",
    "    story = state[\"story\"]\n",
    "    scenes = scenesCreationChain.invoke({\"story\":story.story,\"character_description\":story.characterDescription,\"title\":story.title,\"n\":story.num_of_scenes})\n",
    "    print(\"Created Scenes+++\")\n",
    "\n",
    "    #### DEBUG\n",
    "    print(\"*\"*20)\n",
    "    print(\"SCENES:\")\n",
    "    for i,scene in enumerate(scenes.scenes):\n",
    "        print(i,scene)\n",
    "    print(\"VOICEOVERS:\")\n",
    "    for i,scene in enumerate(scenes.voiceovers):\n",
    "        print(i,scene)\n",
    "    print(\"*\"*20)\n",
    "    #### DEBUG\n",
    "\n",
    "    state[\"scenes\"] = scenes\n",
    "    print(scenes)\n",
    "    return state\n",
    "\n",
    "def scenesImageCreator(state:BookState) -> BookState:\n",
    "    print(\"Entering Scenes Image Creation Node...\")\n",
    "    story = state[\"story\"]\n",
    "\n",
    "    for i in range(story.num_of_scenes):\n",
    "        print(f\"Creating Scene{i+1} Image...\")\n",
    "        previous_scenes = \"\\n\".join(state[\"scenes\"].scenes[:i])\n",
    "        current_scene = state[\"scenes\"].scenes[i]\n",
    "        kwargs = {\"previous_scenes\":previous_scenes,\"style\":story.style,\"character_description\":story.characterDescription,\"story\":story.story,\"title\":story.title,\"current_scene\":current_scene}\n",
    "        prompt = sceneImageGenerationTemplate.format(**kwargs)\n",
    "        print(prompt)\n",
    "        generateImage(prompt=prompt,filepath=f\"stories/{state[\"users_id\"]}\",filename=f\"scene{i+1}.png\")\n",
    "        print(f\"created Scene{i+1} image+++\")\n",
    "    return {}\n",
    "\n",
    "graph = StateGraph(BookState)\n",
    "\n",
    "graph.add_node(\"usersprompt\",usersPrompt)\n",
    "graph.add_node(\"storycreator\",storyCreator)\n",
    "graph.add_node(\"titleimagecreator\",titleImageCreator)\n",
    "graph.add_node(\"scenescreator\",scenesCreator)\n",
    "graph.add_node(\"scenesimagecreator\",scenesImageCreator)\n",
    "\n",
    "graph.set_entry_point(\"usersprompt\")\n",
    "graph.add_conditional_edges(\"usersprompt\",gradeThePrompt,[END,\"storycreator\"])\n",
    "graph.add_edge(\"storycreator\",\"titleimagecreator\")\n",
    "graph.add_edge(\"titleimagecreator\",END)\n",
    "graph.add_edge(\"storycreator\",\"scenescreator\")\n",
    "graph.add_edge(\"scenescreator\",\"scenesimagecreator\")\n",
    "graph.add_edge(\"scenesimagecreator\",END)\n",
    "\n",
    "app = graph.compile()\n",
    "\n"
   ]
  },
  {
   "cell_type": "code",
   "execution_count": 20,
   "id": "327353d2",
   "metadata": {},
   "outputs": [
    {
     "data": {
      "image/png": "[encoded data removed]",
      "text/plain": [
       "<IPython.core.display.Image object>"
      ]
     },
     "metadata": {},
     "output_type": "display_data"
    }
   ],
   "source": [
    "from IPython.display import Image, display\n",
    "from langchain_core.runnables.graph import MermaidDrawMethod\n",
    "\n",
    "display(\n",
    "    Image(\n",
    "        app.get_graph().draw_mermaid_png(\n",
    "            draw_method=MermaidDrawMethod.API\n",
    "        )\n",
    "    )\n",
    ")"
   ]
  },
  {
   "cell_type": "code",
   "execution_count": 21,
   "id": "69658d1d",
   "metadata": {},
   "outputs": [
    {
     "name": "stdout",
     "output_type": "stream",
     "text": [
      "Accessing User's prompt...\n",
      "Analysing the User's Prompt...\n",
      "Entering Story Creation Node...\n",
      "Story Created+++\n",
      "********************\n",
      "TITLE: Entwined Fates\n",
      "CHARACTERS: Character 1: Lyra, a 20-year-old free-spirited artist with a passion for music and a kind heart. She has short, spiky hair and piercing green eyes. \n",
      "Character 2: Kaid, a 22-year-old brooding musician with a troubled past and a penchant for darkness. He has messy black hair and piercing blue eyes. \n",
      "Character 3: Aria, a 21-year-old bubbly fashionista with a flair for drama and a hidden vulnerable side. She has long, curly blonde hair and bright brown eyes.\n",
      "STORY: In the vibrant city of Luminaria, Lyra, Kaid, and Aria's lives intertwined in a complex dance of friendship, love, and hatred. Lyra, a struggling artist, met Kaid, a talented musician, at an underground music club. They bonded over their passion for music, and Lyra introduced Kaid to her best friend, Aria. The three formed an inseparable trio, with Lyra as the glue that held them together. As they explored the city's hidden gems, their friendship blossomed. However, Kaid's dark past soon resurfaced, threatening to destroy their bond. Aria, who had secretly harbored feelings for Kaid, found herself torn between her loyalty to Lyra and her own desires. Lyra, sensing the tension, tried to keep the peace, but Kaid's demons eventually consumed him. He lashed out at Lyra, and Aria, caught in the crossfire, was hurt in the process. The trio's friendship crumbled, and hatred simmered beneath the surface. Lyra, heartbroken, focused on her music, while Aria turned to her fashion career to cope with the pain. Kaid, realizing his mistakes, embarked on a journey of self-discovery, determined to redeem himself. As the three went their separate ways, fate conspired to bring them back together. Lyra's music career took off, and she was offered a record deal on one condition: she had to perform with Kaid, now reformed and seeking forgiveness. Aria, still hurting, was hesitant to reunite with her former friends, but Lyra's persuasive nature eventually won her over. The night of the concert arrived, and the trio took the stage, their music a testament to the power of forgiveness and the enduring bonds of friendship. As they performed, the hatred and anger dissipated, replaced by a deep understanding and appreciation for one another. In the end, Lyra, Kaid, and Aria emerged stronger, their entwined fates a reminder that even in the darkest of times, love and friendship can conquer all.\n",
      "STYLE: Anime art\n",
      "ONELINE: Three friends, Lyra, Kaid, and Aria, navigate the complexities of friendship, love, and hatred, ultimately emerging stronger and more united than ever.\n",
      "NUM_OF_SCENES: 20\n",
      "********************\n",
      "Entering Scenes Creation Node...\n",
      "Entering Title Image Creation Node...\n",
      "\n",
      "    create a cover page with image for the title - 'Entwined Fates' \n",
      "    and the one line of the story book is - Three friends, Lyra, Kaid, and Aria, navigate the complexities of friendship, love, and hatred, ultimately emerging stronger and more united than ever.     \n",
      "\n",
      "    make sure:\n",
      "    -To place this title : 'Entwined Fates' **ALWAYS INCLUDE THIS TITLE IN THE IMAGE** \n",
      "    -Make Sure Texts you create in the image is accurate and not a gibberish so focus more on that\n",
      "    -Dont Explicitly name things like 'Title of the book' near the title \n",
      "\n",
      "Created a Title Image+++\n",
      "Created Scenes+++\n",
      "********************\n",
      "SCENES:\n",
      "0 Scene 1: Lyra, a 20-year-old free-spirited artist, is shown painting in her small studio, surrounded by half-finished canvases and art supplies.\n",
      "1 Scene 2: Kaid, a 22-year-old brooding musician, is shown performing at an underground music club, his intense gaze captivating the audience.\n",
      "2 Scene 3: Lyra meets Kaid at the music club, and they bond over their passion for music, their conversation filled with laughter and excitement.\n",
      "3 Scene 4: Lyra introduces Kaid to Aria, a 21-year-old bubbly fashionista, at a trendy café, and the three form an instant connection.\n",
      "4 Scene 5: The trio explores the city's hidden gems, their friendship blossoming as they laugh and joke together.\n",
      "5 Scene 6: Kaid's dark past is hinted at, his eyes clouding over as he receives a mysterious phone call.\n",
      "6 Scene 7: Aria is shown secretly watching Kaid, her feelings for him evident on her face.\n",
      "7 Scene 8: Lyra senses the tension between Kaid and Aria, her expression filled with concern.\n",
      "8 Scene 9: Kaid's demons consume him, and he lashes out at Lyra, Aria caught in the crossfire.\n",
      "9 Scene 10: The trio's friendship crumbles, the atmosphere heavy with hatred and anger.\n",
      "10 Scene 11: Lyra, heartbroken, focuses on her music, her guitar and lyrics her only solace.\n",
      "11 Scene 12: Aria turns to her fashion career to cope with the pain, her designs a reflection of her emotional state.\n",
      "12 Scene 13: Kaid, realizing his mistakes, embarks on a journey of self-discovery, his determination to redeem himself evident on his face.\n",
      "13 Scene 14: Lyra's music career takes off, and she is offered a record deal, her excitement tempered by the condition that she must perform with Kaid.\n",
      "14 Scene 15: Aria is hesitant to reunite with her former friends, her hurt and anger still raw.\n",
      "15 Scene 16: Lyra's persuasive nature eventually wins Aria over, and the trio begins to rehearse together.\n",
      "16 Scene 17: The night of the concert arrives, and the trio takes the stage, their music a testament to the power of forgiveness.\n",
      "17 Scene 18: As they perform, the hatred and anger dissipate, replaced by a deep understanding and appreciation for one another.\n",
      "18 Scene 19: The crowd cheers, and the trio shares a moment of triumph, their bond stronger than ever.\n",
      "19 Scene 20: The final shot is of the three friends walking off into the sunset, their entwined fates a reminder that even in the darkest of times, love and friendship can conquer all.\n",
      "VOICEOVERS:\n",
      "0 Voiceover 1: In the vibrant city of Luminaria, three lives intertwined in a complex dance of friendship, love, and hatred.\n",
      "1 Voiceover 2: Lyra, a struggling artist, met Kaid, a talented musician, at an underground music club.\n",
      "2 Voiceover 3: They bonded over their passion for music, and Lyra introduced Kaid to her best friend, Aria.\n",
      "3 Voiceover 4: The three formed an inseparable trio, with Lyra as the glue that held them together.\n",
      "4 Voiceover 5: As they explored the city's hidden gems, their friendship blossomed.\n",
      "5 Voiceover 6: But Kaid's dark past soon resurfaced, threatening to destroy their bond.\n",
      "6 Voiceover 7: Aria, who had secretly harbored feelings for Kaid, found herself torn between her loyalty to Lyra and her own desires.\n",
      "7 Voiceover 8: Lyra, sensing the tension, tried to keep the peace, but Kaid's demons eventually consumed him.\n",
      "8 Voiceover 9: The trio's friendship crumbled, and hatred simmered beneath the surface.\n",
      "9 Voiceover 10: Lyra, heartbroken, focused on her music, while Aria turned to her fashion career to cope with the pain.\n",
      "10 Voiceover 11: Kaid, realizing his mistakes, embarked on a journey of self-discovery.\n",
      "11 Voiceover 12: As the three went their separate ways, fate conspired to bring them back together.\n",
      "12 Voiceover 13: Lyra's music career took off, and she was offered a record deal on one condition: she had to perform with Kaid.\n",
      "13 Voiceover 14: Aria, still hurting, was hesitant to reunite with her former friends.\n",
      "14 Voiceover 15: But Lyra's persuasive nature eventually won her over, and the trio began to rehearse together.\n",
      "15 Voiceover 16: The night of the concert arrived, and the trio took the stage, their music a testament to the power of forgiveness.\n",
      "16 Voiceover 17: As they performed, the hatred and anger dissipated, replaced by a deep understanding and appreciation for one another.\n",
      "17 Voiceover 18: The crowd cheered, and the trio shared a moment of triumph, their bond stronger than ever.\n",
      "18 Voiceover 19: In the end, Lyra, Kaid, and Aria emerged stronger, their entwined fates a reminder that even in the darkest of times, love and friendship can conquer all.\n",
      "19 Voiceover 20: And so, their story came full circle, a testament to the power of forgiveness and the unbreakable bonds of friendship.\n",
      "********************\n",
      "scenes=['Scene 1: Lyra, a 20-year-old free-spirited artist, is shown painting in her small studio, surrounded by half-finished canvases and art supplies.', 'Scene 2: Kaid, a 22-year-old brooding musician, is shown performing at an underground music club, his intense gaze captivating the audience.', 'Scene 3: Lyra meets Kaid at the music club, and they bond over their passion for music, their conversation filled with laughter and excitement.', 'Scene 4: Lyra introduces Kaid to Aria, a 21-year-old bubbly fashionista, at a trendy café, and the three form an instant connection.', \"Scene 5: The trio explores the city's hidden gems, their friendship blossoming as they laugh and joke together.\", \"Scene 6: Kaid's dark past is hinted at, his eyes clouding over as he receives a mysterious phone call.\", 'Scene 7: Aria is shown secretly watching Kaid, her feelings for him evident on her face.', 'Scene 8: Lyra senses the tension between Kaid and Aria, her expression filled with concern.', \"Scene 9: Kaid's demons consume him, and he lashes out at Lyra, Aria caught in the crossfire.\", \"Scene 10: The trio's friendship crumbles, the atmosphere heavy with hatred and anger.\", 'Scene 11: Lyra, heartbroken, focuses on her music, her guitar and lyrics her only solace.', 'Scene 12: Aria turns to her fashion career to cope with the pain, her designs a reflection of her emotional state.', 'Scene 13: Kaid, realizing his mistakes, embarks on a journey of self-discovery, his determination to redeem himself evident on his face.', \"Scene 14: Lyra's music career takes off, and she is offered a record deal, her excitement tempered by the condition that she must perform with Kaid.\", 'Scene 15: Aria is hesitant to reunite with her former friends, her hurt and anger still raw.', \"Scene 16: Lyra's persuasive nature eventually wins Aria over, and the trio begins to rehearse together.\", 'Scene 17: The night of the concert arrives, and the trio takes the stage, their music a testament to the power of forgiveness.', 'Scene 18: As they perform, the hatred and anger dissipate, replaced by a deep understanding and appreciation for one another.', 'Scene 19: The crowd cheers, and the trio shares a moment of triumph, their bond stronger than ever.', 'Scene 20: The final shot is of the three friends walking off into the sunset, their entwined fates a reminder that even in the darkest of times, love and friendship can conquer all.'] voiceovers=['Voiceover 1: In the vibrant city of Luminaria, three lives intertwined in a complex dance of friendship, love, and hatred.', 'Voiceover 2: Lyra, a struggling artist, met Kaid, a talented musician, at an underground music club.', 'Voiceover 3: They bonded over their passion for music, and Lyra introduced Kaid to her best friend, Aria.', 'Voiceover 4: The three formed an inseparable trio, with Lyra as the glue that held them together.', \"Voiceover 5: As they explored the city's hidden gems, their friendship blossomed.\", \"Voiceover 6: But Kaid's dark past soon resurfaced, threatening to destroy their bond.\", 'Voiceover 7: Aria, who had secretly harbored feelings for Kaid, found herself torn between her loyalty to Lyra and her own desires.', \"Voiceover 8: Lyra, sensing the tension, tried to keep the peace, but Kaid's demons eventually consumed him.\", \"Voiceover 9: The trio's friendship crumbled, and hatred simmered beneath the surface.\", 'Voiceover 10: Lyra, heartbroken, focused on her music, while Aria turned to her fashion career to cope with the pain.', 'Voiceover 11: Kaid, realizing his mistakes, embarked on a journey of self-discovery.', 'Voiceover 12: As the three went their separate ways, fate conspired to bring them back together.', \"Voiceover 13: Lyra's music career took off, and she was offered a record deal on one condition: she had to perform with Kaid.\", 'Voiceover 14: Aria, still hurting, was hesitant to reunite with her former friends.', \"Voiceover 15: But Lyra's persuasive nature eventually won her over, and the trio began to rehearse together.\", 'Voiceover 16: The night of the concert arrived, and the trio took the stage, their music a testament to the power of forgiveness.', 'Voiceover 17: As they performed, the hatred and anger dissipated, replaced by a deep understanding and appreciation for one another.', 'Voiceover 18: The crowd cheered, and the trio shared a moment of triumph, their bond stronger than ever.', 'Voiceover 19: In the end, Lyra, Kaid, and Aria emerged stronger, their entwined fates a reminder that even in the darkest of times, love and friendship can conquer all.', 'Voiceover 20: And so, their story came full circle, a testament to the power of forgiveness and the unbreakable bonds of friendship.']\n",
      "Entering Scenes Image Creation Node...\n",
      "Creating Scene1 Image...\n"
     ]
    },
    {
     "ename": "TypeError",
     "evalue": "'Scenes' object is not subscriptable",
     "output_type": "error",
     "traceback": [
      "\u001b[31m---------------------------------------------------------------------------\u001b[39m",
      "\u001b[31mTypeError\u001b[39m                                 Traceback (most recent call last)",
      "\u001b[36mCell\u001b[39m\u001b[36m \u001b[39m\u001b[32mIn[21]\u001b[39m\u001b[32m, line 1\u001b[39m\n\u001b[32m----> \u001b[39m\u001b[32m1\u001b[39m book = \u001b[43mapp\u001b[49m\u001b[43m.\u001b[49m\u001b[43minvoke\u001b[49m\u001b[43m(\u001b[49m\u001b[43m{\u001b[49m\u001b[33;43m\"\u001b[39;49m\u001b[33;43musers_prompt\u001b[39;49m\u001b[33;43m\"\u001b[39;49m\u001b[43m:\u001b[49m\u001b[33;43m\"\u001b[39;49m\u001b[33;43mCreate a Story Depicting FriendShip , Love and Hatred \u001b[39;49m\u001b[33;43m\"\u001b[39;49m\u001b[43m}\u001b[49m\u001b[43m)\u001b[49m\n",
      "\u001b[36mFile \u001b[39m\u001b[32md:\\Current Projects\\Github\\public\\FakeandrewA\\StoryBookGenerator\\feature\\story-creating-agent\\StoryBookGenerator\\venv\\Lib\\site-packages\\langgraph\\pregel\\__init__.py:2844\u001b[39m, in \u001b[36mPregel.invoke\u001b[39m\u001b[34m(self, input, config, stream_mode, print_mode, output_keys, interrupt_before, interrupt_after, **kwargs)\u001b[39m\n\u001b[32m   2841\u001b[39m chunks: \u001b[38;5;28mlist\u001b[39m[\u001b[38;5;28mdict\u001b[39m[\u001b[38;5;28mstr\u001b[39m, Any] | Any] = []\n\u001b[32m   2842\u001b[39m interrupts: \u001b[38;5;28mlist\u001b[39m[Interrupt] = []\n\u001b[32m-> \u001b[39m\u001b[32m2844\u001b[39m \u001b[43m\u001b[49m\u001b[38;5;28;43;01mfor\u001b[39;49;00m\u001b[43m \u001b[49m\u001b[43mchunk\u001b[49m\u001b[43m \u001b[49m\u001b[38;5;129;43;01min\u001b[39;49;00m\u001b[43m \u001b[49m\u001b[38;5;28;43mself\u001b[39;49m\u001b[43m.\u001b[49m\u001b[43mstream\u001b[49m\u001b[43m(\u001b[49m\n\u001b[32m   2845\u001b[39m \u001b[43m    \u001b[49m\u001b[38;5;28;43minput\u001b[39;49m\u001b[43m,\u001b[49m\n\u001b[32m   2846\u001b[39m \u001b[43m    \u001b[49m\u001b[43mconfig\u001b[49m\u001b[43m,\u001b[49m\n\u001b[32m   2847\u001b[39m \u001b[43m    \u001b[49m\u001b[43mstream_mode\u001b[49m\u001b[43m=\u001b[49m\u001b[43m[\u001b[49m\u001b[33;43m\"\u001b[39;49m\u001b[33;43mupdates\u001b[39;49m\u001b[33;43m\"\u001b[39;49m\u001b[43m,\u001b[49m\u001b[43m \u001b[49m\u001b[33;43m\"\u001b[39;49m\u001b[33;43mvalues\u001b[39;49m\u001b[33;43m\"\u001b[39;49m\u001b[43m]\u001b[49m\n\u001b[32m   2848\u001b[39m \u001b[43m    \u001b[49m\u001b[38;5;28;43;01mif\u001b[39;49;00m\u001b[43m \u001b[49m\u001b[43mstream_mode\u001b[49m\u001b[43m \u001b[49m\u001b[43m==\u001b[49m\u001b[43m \u001b[49m\u001b[33;43m\"\u001b[39;49m\u001b[33;43mvalues\u001b[39;49m\u001b[33;43m\"\u001b[39;49m\n\u001b[32m   2849\u001b[39m \u001b[43m    \u001b[49m\u001b[38;5;28;43;01melse\u001b[39;49;00m\u001b[43m \u001b[49m\u001b[43mstream_mode\u001b[49m\u001b[43m,\u001b[49m\n\u001b[32m   2850\u001b[39m \u001b[43m    \u001b[49m\u001b[43mprint_mode\u001b[49m\u001b[43m=\u001b[49m\u001b[43mprint_mode\u001b[49m\u001b[43m,\u001b[49m\n\u001b[32m   2851\u001b[39m \u001b[43m    \u001b[49m\u001b[43moutput_keys\u001b[49m\u001b[43m=\u001b[49m\u001b[43moutput_keys\u001b[49m\u001b[43m,\u001b[49m\n\u001b[32m   2852\u001b[39m \u001b[43m    \u001b[49m\u001b[43minterrupt_before\u001b[49m\u001b[43m=\u001b[49m\u001b[43minterrupt_before\u001b[49m\u001b[43m,\u001b[49m\n\u001b[32m   2853\u001b[39m \u001b[43m    \u001b[49m\u001b[43minterrupt_after\u001b[49m\u001b[43m=\u001b[49m\u001b[43minterrupt_after\u001b[49m\u001b[43m,\u001b[49m\n\u001b[32m   2854\u001b[39m \u001b[43m    \u001b[49m\u001b[43m*\u001b[49m\u001b[43m*\u001b[49m\u001b[43mkwargs\u001b[49m\u001b[43m,\u001b[49m\n\u001b[32m   2855\u001b[39m \u001b[43m\u001b[49m\u001b[43m)\u001b[49m\u001b[43m:\u001b[49m\n\u001b[32m   2856\u001b[39m \u001b[43m    \u001b[49m\u001b[38;5;28;43;01mif\u001b[39;49;00m\u001b[43m \u001b[49m\u001b[43mstream_mode\u001b[49m\u001b[43m \u001b[49m\u001b[43m==\u001b[49m\u001b[43m \u001b[49m\u001b[33;43m\"\u001b[39;49m\u001b[33;43mvalues\u001b[39;49m\u001b[33;43m\"\u001b[39;49m\u001b[43m:\u001b[49m\n\u001b[32m   2857\u001b[39m \u001b[43m        \u001b[49m\u001b[38;5;28;43;01mif\u001b[39;49;00m\u001b[43m \u001b[49m\u001b[38;5;28;43mlen\u001b[39;49m\u001b[43m(\u001b[49m\u001b[43mchunk\u001b[49m\u001b[43m)\u001b[49m\u001b[43m \u001b[49m\u001b[43m==\u001b[49m\u001b[43m \u001b[49m\u001b[32;43m2\u001b[39;49m\u001b[43m:\u001b[49m\n",
      "\u001b[36mFile \u001b[39m\u001b[32md:\\Current Projects\\Github\\public\\FakeandrewA\\StoryBookGenerator\\feature\\story-creating-agent\\StoryBookGenerator\\venv\\Lib\\site-packages\\langgraph\\pregel\\__init__.py:2534\u001b[39m, in \u001b[36mPregel.stream\u001b[39m\u001b[34m(self, input, config, stream_mode, print_mode, output_keys, interrupt_before, interrupt_after, checkpoint_during, debug, subgraphs)\u001b[39m\n\u001b[32m   2532\u001b[39m \u001b[38;5;28;01mfor\u001b[39;00m task \u001b[38;5;129;01min\u001b[39;00m loop.match_cached_writes():\n\u001b[32m   2533\u001b[39m     loop.output_writes(task.id, task.writes, cached=\u001b[38;5;28;01mTrue\u001b[39;00m)\n\u001b[32m-> \u001b[39m\u001b[32m2534\u001b[39m \u001b[43m\u001b[49m\u001b[38;5;28;43;01mfor\u001b[39;49;00m\u001b[43m \u001b[49m\u001b[43m_\u001b[49m\u001b[43m \u001b[49m\u001b[38;5;129;43;01min\u001b[39;49;00m\u001b[43m \u001b[49m\u001b[43mrunner\u001b[49m\u001b[43m.\u001b[49m\u001b[43mtick\u001b[49m\u001b[43m(\u001b[49m\n\u001b[32m   2535\u001b[39m \u001b[43m    \u001b[49m\u001b[43m[\u001b[49m\u001b[43mt\u001b[49m\u001b[43m \u001b[49m\u001b[38;5;28;43;01mfor\u001b[39;49;00m\u001b[43m \u001b[49m\u001b[43mt\u001b[49m\u001b[43m \u001b[49m\u001b[38;5;129;43;01min\u001b[39;49;00m\u001b[43m \u001b[49m\u001b[43mloop\u001b[49m\u001b[43m.\u001b[49m\u001b[43mtasks\u001b[49m\u001b[43m.\u001b[49m\u001b[43mvalues\u001b[49m\u001b[43m(\u001b[49m\u001b[43m)\u001b[49m\u001b[43m \u001b[49m\u001b[38;5;28;43;01mif\u001b[39;49;00m\u001b[43m \u001b[49m\u001b[38;5;129;43;01mnot\u001b[39;49;00m\u001b[43m \u001b[49m\u001b[43mt\u001b[49m\u001b[43m.\u001b[49m\u001b[43mwrites\u001b[49m\u001b[43m]\u001b[49m\u001b[43m,\u001b[49m\n\u001b[32m   2536\u001b[39m \u001b[43m    \u001b[49m\u001b[43mtimeout\u001b[49m\u001b[43m=\u001b[49m\u001b[38;5;28;43mself\u001b[39;49m\u001b[43m.\u001b[49m\u001b[43mstep_timeout\u001b[49m\u001b[43m,\u001b[49m\n\u001b[32m   2537\u001b[39m \u001b[43m    \u001b[49m\u001b[43mget_waiter\u001b[49m\u001b[43m=\u001b[49m\u001b[43mget_waiter\u001b[49m\u001b[43m,\u001b[49m\n\u001b[32m   2538\u001b[39m \u001b[43m    \u001b[49m\u001b[43mschedule_task\u001b[49m\u001b[43m=\u001b[49m\u001b[43mloop\u001b[49m\u001b[43m.\u001b[49m\u001b[43maccept_push\u001b[49m\u001b[43m,\u001b[49m\n\u001b[32m   2539\u001b[39m \u001b[43m\u001b[49m\u001b[43m)\u001b[49m\u001b[43m:\u001b[49m\n\u001b[32m   2540\u001b[39m \u001b[43m    \u001b[49m\u001b[38;5;66;43;03m# emit output\u001b[39;49;00m\n\u001b[32m   2541\u001b[39m \u001b[43m    \u001b[49m\u001b[38;5;28;43;01myield from\u001b[39;49;00m\u001b[43m \u001b[49m\u001b[43m_output\u001b[49m\u001b[43m(\u001b[49m\n\u001b[32m   2542\u001b[39m \u001b[43m        \u001b[49m\u001b[43mstream_mode\u001b[49m\u001b[43m,\u001b[49m\u001b[43m \u001b[49m\u001b[43mprint_mode\u001b[49m\u001b[43m,\u001b[49m\u001b[43m \u001b[49m\u001b[43msubgraphs\u001b[49m\u001b[43m,\u001b[49m\u001b[43m \u001b[49m\u001b[43mstream\u001b[49m\u001b[43m.\u001b[49m\u001b[43mget\u001b[49m\u001b[43m,\u001b[49m\u001b[43m \u001b[49m\u001b[43mqueue\u001b[49m\u001b[43m.\u001b[49m\u001b[43mEmpty\u001b[49m\n\u001b[32m   2543\u001b[39m \u001b[43m    \u001b[49m\u001b[43m)\u001b[49m\n\u001b[32m   2544\u001b[39m loop.after_tick()\n",
      "\u001b[36mFile \u001b[39m\u001b[32md:\\Current Projects\\Github\\public\\FakeandrewA\\StoryBookGenerator\\feature\\story-creating-agent\\StoryBookGenerator\\venv\\Lib\\site-packages\\langgraph\\pregel\\runner.py:162\u001b[39m, in \u001b[36mPregelRunner.tick\u001b[39m\u001b[34m(self, tasks, reraise, timeout, retry_policy, get_waiter, schedule_task)\u001b[39m\n\u001b[32m    160\u001b[39m t = tasks[\u001b[32m0\u001b[39m]\n\u001b[32m    161\u001b[39m \u001b[38;5;28;01mtry\u001b[39;00m:\n\u001b[32m--> \u001b[39m\u001b[32m162\u001b[39m     \u001b[43mrun_with_retry\u001b[49m\u001b[43m(\u001b[49m\n\u001b[32m    163\u001b[39m \u001b[43m        \u001b[49m\u001b[43mt\u001b[49m\u001b[43m,\u001b[49m\n\u001b[32m    164\u001b[39m \u001b[43m        \u001b[49m\u001b[43mretry_policy\u001b[49m\u001b[43m,\u001b[49m\n\u001b[32m    165\u001b[39m \u001b[43m        \u001b[49m\u001b[43mconfigurable\u001b[49m\u001b[43m=\u001b[49m\u001b[43m{\u001b[49m\n\u001b[32m    166\u001b[39m \u001b[43m            \u001b[49m\u001b[43mCONFIG_KEY_CALL\u001b[49m\u001b[43m:\u001b[49m\u001b[43m \u001b[49m\u001b[43mpartial\u001b[49m\u001b[43m(\u001b[49m\n\u001b[32m    167\u001b[39m \u001b[43m                \u001b[49m\u001b[43m_call\u001b[49m\u001b[43m,\u001b[49m\n\u001b[32m    168\u001b[39m \u001b[43m                \u001b[49m\u001b[43mweakref\u001b[49m\u001b[43m.\u001b[49m\u001b[43mref\u001b[49m\u001b[43m(\u001b[49m\u001b[43mt\u001b[49m\u001b[43m)\u001b[49m\u001b[43m,\u001b[49m\n\u001b[32m    169\u001b[39m \u001b[43m                \u001b[49m\u001b[43mretry_policy\u001b[49m\u001b[43m=\u001b[49m\u001b[43mretry_policy\u001b[49m\u001b[43m,\u001b[49m\n\u001b[32m    170\u001b[39m \u001b[43m                \u001b[49m\u001b[43mfutures\u001b[49m\u001b[43m=\u001b[49m\u001b[43mweakref\u001b[49m\u001b[43m.\u001b[49m\u001b[43mref\u001b[49m\u001b[43m(\u001b[49m\u001b[43mfutures\u001b[49m\u001b[43m)\u001b[49m\u001b[43m,\u001b[49m\n\u001b[32m    171\u001b[39m \u001b[43m                \u001b[49m\u001b[43mschedule_task\u001b[49m\u001b[43m=\u001b[49m\u001b[43mschedule_task\u001b[49m\u001b[43m,\u001b[49m\n\u001b[32m    172\u001b[39m \u001b[43m                \u001b[49m\u001b[43msubmit\u001b[49m\u001b[43m=\u001b[49m\u001b[38;5;28;43mself\u001b[39;49m\u001b[43m.\u001b[49m\u001b[43msubmit\u001b[49m\u001b[43m,\u001b[49m\n\u001b[32m    173\u001b[39m \u001b[43m            \u001b[49m\u001b[43m)\u001b[49m\u001b[43m,\u001b[49m\n\u001b[32m    174\u001b[39m \u001b[43m        \u001b[49m\u001b[43m}\u001b[49m\u001b[43m,\u001b[49m\n\u001b[32m    175\u001b[39m \u001b[43m    \u001b[49m\u001b[43m)\u001b[49m\n\u001b[32m    176\u001b[39m     \u001b[38;5;28mself\u001b[39m.commit(t, \u001b[38;5;28;01mNone\u001b[39;00m)\n\u001b[32m    177\u001b[39m \u001b[38;5;28;01mexcept\u001b[39;00m \u001b[38;5;167;01mException\u001b[39;00m \u001b[38;5;28;01mas\u001b[39;00m exc:\n",
      "\u001b[36mFile \u001b[39m\u001b[32md:\\Current Projects\\Github\\public\\FakeandrewA\\StoryBookGenerator\\feature\\story-creating-agent\\StoryBookGenerator\\venv\\Lib\\site-packages\\langgraph\\pregel\\retry.py:42\u001b[39m, in \u001b[36mrun_with_retry\u001b[39m\u001b[34m(task, retry_policy, configurable)\u001b[39m\n\u001b[32m     40\u001b[39m     task.writes.clear()\n\u001b[32m     41\u001b[39m     \u001b[38;5;66;03m# run the task\u001b[39;00m\n\u001b[32m---> \u001b[39m\u001b[32m42\u001b[39m     \u001b[38;5;28;01mreturn\u001b[39;00m \u001b[43mtask\u001b[49m\u001b[43m.\u001b[49m\u001b[43mproc\u001b[49m\u001b[43m.\u001b[49m\u001b[43minvoke\u001b[49m\u001b[43m(\u001b[49m\u001b[43mtask\u001b[49m\u001b[43m.\u001b[49m\u001b[43minput\u001b[49m\u001b[43m,\u001b[49m\u001b[43m \u001b[49m\u001b[43mconfig\u001b[49m\u001b[43m)\u001b[49m\n\u001b[32m     43\u001b[39m \u001b[38;5;28;01mexcept\u001b[39;00m ParentCommand \u001b[38;5;28;01mas\u001b[39;00m exc:\n\u001b[32m     44\u001b[39m     ns: \u001b[38;5;28mstr\u001b[39m = config[CONF][CONFIG_KEY_CHECKPOINT_NS]\n",
      "\u001b[36mFile \u001b[39m\u001b[32md:\\Current Projects\\Github\\public\\FakeandrewA\\StoryBookGenerator\\feature\\story-creating-agent\\StoryBookGenerator\\venv\\Lib\\site-packages\\langgraph\\utils\\runnable.py:623\u001b[39m, in \u001b[36mRunnableSeq.invoke\u001b[39m\u001b[34m(self, input, config, **kwargs)\u001b[39m\n\u001b[32m    621\u001b[39m     \u001b[38;5;66;03m# run in context\u001b[39;00m\n\u001b[32m    622\u001b[39m     \u001b[38;5;28;01mwith\u001b[39;00m set_config_context(config, run) \u001b[38;5;28;01mas\u001b[39;00m context:\n\u001b[32m--> \u001b[39m\u001b[32m623\u001b[39m         \u001b[38;5;28minput\u001b[39m = \u001b[43mcontext\u001b[49m\u001b[43m.\u001b[49m\u001b[43mrun\u001b[49m\u001b[43m(\u001b[49m\u001b[43mstep\u001b[49m\u001b[43m.\u001b[49m\u001b[43minvoke\u001b[49m\u001b[43m,\u001b[49m\u001b[43m \u001b[49m\u001b[38;5;28;43minput\u001b[39;49m\u001b[43m,\u001b[49m\u001b[43m \u001b[49m\u001b[43mconfig\u001b[49m\u001b[43m,\u001b[49m\u001b[43m \u001b[49m\u001b[43m*\u001b[49m\u001b[43m*\u001b[49m\u001b[43mkwargs\u001b[49m\u001b[43m)\u001b[49m\n\u001b[32m    624\u001b[39m \u001b[38;5;28;01melse\u001b[39;00m:\n\u001b[32m    625\u001b[39m     \u001b[38;5;28minput\u001b[39m = step.invoke(\u001b[38;5;28minput\u001b[39m, config)\n",
      "\u001b[36mFile \u001b[39m\u001b[32md:\\Current Projects\\Github\\public\\FakeandrewA\\StoryBookGenerator\\feature\\story-creating-agent\\StoryBookGenerator\\venv\\Lib\\site-packages\\langgraph\\utils\\runnable.py:377\u001b[39m, in \u001b[36mRunnableCallable.invoke\u001b[39m\u001b[34m(self, input, config, **kwargs)\u001b[39m\n\u001b[32m    375\u001b[39m         run_manager.on_chain_end(ret)\n\u001b[32m    376\u001b[39m \u001b[38;5;28;01melse\u001b[39;00m:\n\u001b[32m--> \u001b[39m\u001b[32m377\u001b[39m     ret = \u001b[38;5;28;43mself\u001b[39;49m\u001b[43m.\u001b[49m\u001b[43mfunc\u001b[49m\u001b[43m(\u001b[49m\u001b[43m*\u001b[49m\u001b[43margs\u001b[49m\u001b[43m,\u001b[49m\u001b[43m \u001b[49m\u001b[43m*\u001b[49m\u001b[43m*\u001b[49m\u001b[43mkwargs\u001b[49m\u001b[43m)\u001b[49m\n\u001b[32m    378\u001b[39m \u001b[38;5;28;01mif\u001b[39;00m \u001b[38;5;28mself\u001b[39m.recurse \u001b[38;5;129;01mand\u001b[39;00m \u001b[38;5;28misinstance\u001b[39m(ret, Runnable):\n\u001b[32m    379\u001b[39m     \u001b[38;5;28;01mreturn\u001b[39;00m ret.invoke(\u001b[38;5;28minput\u001b[39m, config)\n",
      "\u001b[36mCell\u001b[39m\u001b[36m \u001b[39m\u001b[32mIn[19]\u001b[39m\u001b[32m, line 121\u001b[39m, in \u001b[36mscenesImageCreator\u001b[39m\u001b[34m(state)\u001b[39m\n\u001b[32m    119\u001b[39m \u001b[38;5;28;01mfor\u001b[39;00m i \u001b[38;5;129;01min\u001b[39;00m \u001b[38;5;28mrange\u001b[39m(story.num_of_scenes):\n\u001b[32m    120\u001b[39m     \u001b[38;5;28mprint\u001b[39m(\u001b[33mf\u001b[39m\u001b[33m\"\u001b[39m\u001b[33mCreating Scene\u001b[39m\u001b[38;5;132;01m{\u001b[39;00mi+\u001b[32m1\u001b[39m\u001b[38;5;132;01m}\u001b[39;00m\u001b[33m Image...\u001b[39m\u001b[33m\"\u001b[39m)\n\u001b[32m--> \u001b[39m\u001b[32m121\u001b[39m     previous_scenes = \u001b[33m\"\u001b[39m\u001b[38;5;130;01m\\n\u001b[39;00m\u001b[33m\"\u001b[39m.join(\u001b[43mstate\u001b[49m\u001b[43m[\u001b[49m\u001b[33;43m\"\u001b[39;49m\u001b[33;43mscenes\u001b[39;49m\u001b[33;43m\"\u001b[39;49m\u001b[43m]\u001b[49m\u001b[43m[\u001b[49m\u001b[43m:\u001b[49m\u001b[43mi\u001b[49m\u001b[43m]\u001b[49m)\n\u001b[32m    122\u001b[39m     current_scene = state[\u001b[33m\"\u001b[39m\u001b[33mscenes\u001b[39m\u001b[33m\"\u001b[39m].scenes[i]\n\u001b[32m    123\u001b[39m     kwargs = {\u001b[33m\"\u001b[39m\u001b[33mprevious_scenes\u001b[39m\u001b[33m\"\u001b[39m:previous_scenes,\u001b[33m\"\u001b[39m\u001b[33mstyle\u001b[39m\u001b[33m\"\u001b[39m:story.style,\u001b[33m\"\u001b[39m\u001b[33mcharacter_description\u001b[39m\u001b[33m\"\u001b[39m:story.characterDescription,\u001b[33m\"\u001b[39m\u001b[33mstory\u001b[39m\u001b[33m\"\u001b[39m:story.story,\u001b[33m\"\u001b[39m\u001b[33mtitle\u001b[39m\u001b[33m\"\u001b[39m:story.title,\u001b[33m\"\u001b[39m\u001b[33mcurrent_scene\u001b[39m\u001b[33m\"\u001b[39m:current_scene}\n",
      "\u001b[31mTypeError\u001b[39m: 'Scenes' object is not subscriptable",
      "During task with name 'scenesimagecreator' and id 'e0db0c1e-857f-648f-603e-ca037c893ea6'"
     ]
    }
   ],
   "source": [
    "book = app.invoke({\"users_prompt\":\"Create a Story Depicting FriendShip , Love and Hatred \"})"
   ]
  },
  {
   "cell_type": "code",
   "execution_count": 8,
   "id": "77b78deb",
   "metadata": {},
   "outputs": [
    {
     "data": {
      "text/plain": [
       "\"In the bustling city of New York, three individuals from different walks of life found themselves entwined in a complex web of friendship, love, and hatred. Alex, a struggling artist, met Maya, a feisty journalist, at a local art exhibition. Their instant connection led to a deep and abiding friendship. As they explored the city together, they stumbled upon Ethan, a cunning businessman, who had a reputation for crushing his opponents. Maya, intrigued by Ethan's enigmatic persona, began to investigate his shady dealings, which sparked a cat-and-mouse game between them. Meanwhile, Alex found himself drawn to Maya, but their relationship was put to the test when Ethan made a bid to acquire Alex's art studio. As the stakes grew higher, the trio found themselves trapped in a cycle of love, hatred, and deception. Maya's journalistic instincts led her to uncover a dark secret from Ethan's past, which threatened to destroy his empire. Ethan, cornered and desperate, orchestrated a cruel plan to discredit Maya and destroy Alex's art studio. In the midst of chaos, Alex realized that his feelings for Maya went beyond friendship. But just as they confessed their love for each other, Ethan's sinister plot was set in motion. In a thrilling climax, Maya and Alex joined forces to expose Ethan's true nature, and in the process, they discovered the true meaning of friendship, love, and the power of standing together against hatred.\""
      ]
     },
     "execution_count": 8,
     "metadata": {},
     "output_type": "execute_result"
    }
   ],
   "source": [
    "book[\"story\"].story\n"
   ]
  },
  {
   "cell_type": "code",
   "execution_count": 9,
   "id": "b3d0e517",
   "metadata": {},
   "outputs": [
    {
     "name": "stdout",
     "output_type": "stream",
     "text": [
      "0 Scene 1: Alex's art studio, filled with vibrant colors and half-finished paintings, where Alex and Maya first met.\n",
      "1 Scene 2: A trendy coffee shop in the heart of New York City, where Maya and Alex bonded over their shared passion for art and truth.\n",
      "2 Scene 3: Ethan's sleek, high-rise office, where he plotted his next move to crush his opponents.\n",
      "3 Scene 4: A dark alleyway, where Maya confronted Ethan about his shady dealings.\n",
      "4 Scene 5: Alex's art studio, where Ethan made a bid to acquire the studio, sparking a heated argument between Alex and Maya.\n",
      "5 Scene 6: A dimly lit, underground nightclub, where Maya discovered a dark secret from Ethan's past.\n",
      "6 Scene 7: Alex's art studio, where Alex confessed his feelings to Maya, and they shared a romantic moment.\n",
      "7 Scene 8: Ethan's high-rise office, where he orchestrated a cruel plan to discredit Maya and destroy Alex's art studio.\n",
      "8 Scene 9: A crowded street in New York City, where Maya and Alex joined forces to expose Ethan's true nature.\n",
      "9 Scene 10: A rooftop overlooking the city, where Maya and Alex stood victorious, hand in hand, having discovered the true meaning of friendship and love.\n"
     ]
    }
   ],
   "source": [
    "for i,scene in enumerate(book[\"scenes\"].scenes):\n",
    "    print(i,scene)\n",
    "    "
   ]
  },
  {
   "cell_type": "code",
   "execution_count": 10,
   "id": "6c4f4b48",
   "metadata": {},
   "outputs": [
    {
     "name": "stdout",
     "output_type": "stream",
     "text": [
      "0 Voiceover 1: In a city of millions, three strangers found themselves entwined in a complex web of friendship, love, and hatred.\n",
      "1 Voiceover 2: Maya's journalistic instincts led her to investigate Ethan's shady dealings, sparking a cat-and-mouse game between them.\n",
      "2 Voiceover 3: Ethan's ruthless ambition knew no bounds, and he would stop at nothing to get what he wanted.\n",
      "3 Voiceover 4: Maya's determination to uncover the truth put her in grave danger, but she refused to back down.\n",
      "4 Voiceover 5: Alex's art studio was more than just a place to create – it was his sanctuary, and he would fight to protect it.\n",
      "5 Voiceover 6: Maya's discovery of Ethan's dark secret threatened to destroy his empire, and he would do anything to keep it hidden.\n",
      "6 Voiceover 7: Alex's feelings for Maya went beyond friendship, but could their love survive the chaos that surrounded them?\n",
      "7 Voiceover 8: Ethan's sinister plot was set in motion, and Maya and Alex found themselves in a desperate fight for survival.\n",
      "8 Voiceover 9: In a thrilling climax, Maya and Alex joined forces to expose Ethan's true nature and bring him to justice.\n",
      "9 Voiceover 10: In the end, Maya and Alex emerged victorious, their bond stronger than ever, and their love a beacon of hope in a city of darkness.\n"
     ]
    }
   ],
   "source": [
    "for i,scene in enumerate(book[\"scenes\"].voiceovers):\n",
    "    print(i,scene)"
   ]
  },
  {
   "cell_type": "code",
   "execution_count": 10,
   "id": "da42eace",
   "metadata": {},
   "outputs": [
    {
     "name": "stdout",
     "output_type": "stream",
     "text": [
      " Character 1: Ava, a bright and cheerful 20-year-old with curly brown hair and a warm smile, who values friendship above all. \n",
      " Character 2: Ethan, a brooding and intense 22-year-old with chiseled features and piercing blue eyes, who has a dark past and struggles with trust. \n",
      " Character 3: Lily, a sweet and gentle 21-year-old with long blonde hair and a kind heart, who is Ava's best friend and confidant. \n",
      " Character 4: Jackson, a charming and arrogant 23-year-old with a strong jawline and a quick wit, who is Ethan's rival and nemesis.\n"
     ]
    }
   ],
   "source": [
    "print(book[\"story\"].characterDescription)"
   ]
  },
  {
   "cell_type": "code",
   "execution_count": 17,
   "id": "cc50f116",
   "metadata": {},
   "outputs": [
    {
     "data": {
      "text/plain": [
       "[]"
      ]
     },
     "execution_count": 17,
     "metadata": {},
     "output_type": "execute_result"
    }
   ],
   "source": [
    "book[\"scenes\"].scenes[:0]"
   ]
  },
  {
   "cell_type": "code",
   "execution_count": 18,
   "id": "40721489",
   "metadata": {},
   "outputs": [
    {
     "data": {
      "text/plain": [
       "''"
      ]
     },
     "execution_count": 18,
     "metadata": {},
     "output_type": "execute_result"
    }
   ],
   "source": [
    "\"\\n\".join([])"
   ]
  },
  {
   "cell_type": "code",
   "execution_count": 47,
   "id": "165fcedf",
   "metadata": {},
   "outputs": [
    {
     "name": "stdout",
     "output_type": "stream",
     "text": [
      "/9j/4AAQSkZJRgABAQAAAQABAAD/2wBDAAgGBgcGBQgHBwcJCQgKDBQNDAsLDBkSEw8UHRofHh0aHBwgJC4nICIsIxwcKDcpLDAxNDQ0Hyc5PTgyPC4zNDL/2wBDAQkJCQwLDBgNDRgyIRwhMjIyMjIyMjIyMjIyMjIyMjIyMjIyMjIyMjIyMjIyMjIyMjIyMjIyMjIyMjIyMjIyMjL/wAARCAEAAWADASIAAhEBAxEB/8QAHwAAAQUBAQEBAQEAAAAAAAAAAAECAwQFBgcICQoL/8QAtRAAAgEDAwIEAwUFBAQAAAF9AQIDAAQRBRIhMUEGE1FhByJxFDKBkaEII0KxwRVS0fAkM2JyggkKFhcYGRolJicoKSo0NTY3ODk6Q0RFRkdISUpTVFVWV1hZWmNkZWZnaGlqc3R1dnd4eXqDhIWGh4iJipKTlJWWl5iZmqKjpKWmp6ipqrKztLW2t7i5usLDxMXGx8jJytLT1NXW19jZ2uHi4+Tl5ufo6erx8vP09fb3+Pn6/8QAHwEAAwEBAQEBAQEBAQAAAAAAAAECAwQFBgcICQoL/8QAtREAAgECBAQDBAcFBAQAAQJ3AAECAxEEBSExBhJBUQdhcRMiMoEIFEKRobHBCSMzUvAVYnLRChYkNOEl8RcYGRomJygpKjU2Nzg5OkNERUZHSElKU1RVVldYWVpjZGVmZ2hpanN0dXZ3eHl6goOEhYaHiImKkpOUlZaXmJmaoqOkpaanqKmqsrO0tba3uLm6wsPExcbHyMnK0tPU1dbX2Nna4uPk5ebn6Onq8vP09fb3+Pn6/9oADAMBAAIRAxEAPwDy8DFOxSCnCtDjAU7FIKdQACnYpBThQIAKdigUtAgFLiilFMQopaSlFACilopRQIWiiloAAKWiigQYpaKWgBMUtLRQISilooATFFLRQAlJS0lAxKSnUlACU2nUlAxtIadSUANNIacaQ0DGUlONJQMbimmnGkNIBtNNOpKBjTTSOaeabQMYKcKSnCgBRSikpaBCinCkpwoAUUtIKcKBBThSUtMQopaSnCgQU6kFLQAtLSUtAhaKKWgQUtFFABS0lFAC0UUUCCkpaKBiUUtJQAmKQ0tJQMSkpaSgBCKQinGmmgY2kNONNoGIRTacaQ0ANpDSmkpDGkU008000DGmmmnU00DGinCminCgBacKSlFAhRThSClFAhRThSUopiFpaKUUgClFFKKYhRTqSigQ4UtJSigQuKWiimAUUtFAhKWp4LSe5bbDEzn2FaSeHrhVD3DKgP8ACDk1hUxFOn8TOqjg61Z+7Ew5ZFijLucKOtEc0cqho2DKehrorXTLdrgK0PmqOTkZx+dc1rGkT6dfy3cLs9tI5+cDG1j1DDsazp4uM9VsdNXLnT0b1JqKitpPNABYbqstBMmC0ZwehHOa3jUiziqYecN0R0lLSVoYhSUtJmkMSkNLSUDEpKU02gYlIaWkoAaaQ0ppDQMQ02nGm0DENNNONNpDGmmmnGkNAxgpwpopwoAdSikpRQIcKWkpRQIdSikpRTAWnCm06gkWlpMipYoZJmCopJPAxScktyowlLZDQKXB7VvWfhi5lAaf5Af4e9b1n4dtoCNq7yf7wwa4quYUobandRyytUfvaI4qO1nkGVjYj1xV2LRbuUZVV/Ou4isUUfIuCeBx+lOjhQkZGGz1x39K4Z5rJ/Cj04ZNTXxM44+HbsrmMBj3BIBoi8N6lKcC3P412rKYG3Nxk4z6H3qa3uWST7wJ/iHY+4rNZnVLllFHdHOxeCgsKtPMwcjkAdDT49AsbX5mTeR/fNdXLKGi3r9337H0rmtRuNrgDvXNPHVZu1zroZfQj9kv2xiWMBEUAdFUYqCaOW6lEMA3SH14C+5qnYmW5mSCAbpX4A9BW64i02F4oJAXIzJLjnPt7VFKlKrK7N69aOHjZGderBpWnGEMsl0w+YjtWJpd1E6vFO0Txy5DROc7gT3BA449TVHW71pbh4RKzgH5mPB+mO1XNEtWnCCKZ97diu5ensc8D6V76oKFKx8x9ZdSu2Zet+HZtGH22BfNsGOA4O7yj/dJ/kfz56stNRyqjjOOvbNd3HaT2e7c3DLiSN1LI6nqGB9fwrg/EuhnR5VvbHJ0+dsBd2fJf+4T3Hoa51J3szuaurmkGs9QADw4kzyy+tZ99aQW6sRIUZRnYw5NO0ZmjtnuXyMHOD3xmsmRpL1p76dv9HRsADjc3p/L6CuinKV9zlq0oNaoga+iHTcfwpBqEGeSR+FZ8zmR8AADHQdqRYHdlAUk5FdfMcnsImstxE/3WFPyKo/ZhFCZpjkdFUD7xratNLeO2+2XTIisPlQt0HqaiVWMdwWFctimaaaW8vLcusVuhaQnaFQZJ/Cpo9J1aUBnt0hB/hlfDD6gZI/HFL28OovqlS9kV6SluILqykVbqEKr/ddG3KT6exptaRkpK6MZwlB2kBptONNqiRppKcaSkMaaaacaaaBjTTTTjTT1oGNpwptOFADhSiminCgQ4UtNpwpiHClpop1AhaUUlW9Mh+06nbxYzucZqZS5YtlU4881E0LPSoIgst7uZyM+Up6A1uWsFihDW++Nz0DLvH6GsrXi0N/MuflDEA9sVm2ck00/7navTJdwi/if6V5Er1dWz6inShSXuo9Gt5XjjIl2sAOqZ4+o7Ukt4ImUsuA3AYdG+lZOnuyBYZJIWlAyCjHI/wCA4GB9a1orh7S5jt5dsyyjMiHlSD0J9Dx1FcdXC21RpDEK+pMLgOpyeSM/WoxdRueuSBnI/nV5tMFrN51vh4H+8obOw/1HPWqeoaZEsiy2uEkH3h2PtXBKLi7M7YzjLYr3spMKsMHedrfh0NZK3jBsqSuDznqDV+JfN82A8OPmXPUHpWZINxDgYcHy5ATxjtVR1NUkjoLO68y3ZwdpBG9f0zVXVrAzDzYucAkj271Rh3JbShCd6YP1H+RmtfTrgyxKwYEdqVrMh3WqJ9Ks7XTLRXmVRcyLufJ5Cnovt6n/AOtWD4o15FQW1qxjLfe8tsAfp/hW/PYyXfmO7qEzyx61y2vaPbWkIKbt5Gc5wM9uK9vByhdI+fzBTabOXZiSTkk5zk961dFeGKcTFY3YHBUkZA9ayWqzphT+0Iw6BixwpwDg9Oh656V609Ynh0fjO9GpRzw+U8gVgPlRmZTjrwDkVk3Nwkkc1ncKXtp0wynK45689CDg1r2H2SOzVJVYqDgqT936dxjJx+I9KzdXlto5mSGQFkGQO3HP8vSvKerPcjojBkSG0s/skjny14d92SRjr+XasHVruJoLaG0G22C+YoHc5IyR69fzp+pi4vJzaxkDIDMWP3Fz1P6VSuokXUGhhDZThA4x2xnB9hnmuikrGVR3ILaAzPlmABDEZ7kD/IraezhhWKyiGZSA08h5IPUj+n4GqNuPIhS5ABjg/eAgH5sH+pP6Vp6PHd3k73sr5eQAA+g6Z/IVc52REYXYfYUW4t/NJLGTkZ49cnPtVufSb3V5RLLI1tZ/eUdXcf3gPr3/AJ1f0a1t7e4lvb0eYY8eTCRkFiT1+lRh7i6vZbiVmdmcZY8FRj8scVyuUpM6VFRRqabpGl2UBFpHJE5XDy/eaT8f6cD2qhqM0EJ8uO4RPlyFfIP5N/Q1tRMrW2YnLShQdyfeX6r0b9a5bX5be4JLXsTEtgqq5HTt3U+31xVqN9yU9SO3uo9UV7aTB8xTgnoGA4P51jDoKv6PaIsUkxkIZElZTjqArc8+/wDWqTKVOCMEV0YZ7o5cetmMNIaU0ldZ5o00lKabSGBpppTTaBiGmmnGm0DGinCminCgBRThTRSigQ4U6hVJ4AzU0ds7joQfeplUjHdmkKM5/CiMUtWhZtSG1K9QfrWLxVNdTpjl1Z9CtXQ+HbQhmuzkFeEPvWZb2XmShSK7C0gWCyRVGBnjjiubEYpSjyxOqhgnSmpSKOowR6kbeFgwmmDfOozlkzuH1IAP41w+o288M5AlduMKwcg4r1PTLJjdqUTcHbczFsFcDGR9RxiuM8Q6ayayySHEbNuQ46A/lWdGSO+WqJfCZs7BNnmCeeUFhGvCqcfxHvj8h61uy3ZubkywjzWVcsf4mXpkZP8An+XNwaPJbsrKD657cjkV1ulWYiEcxTa6/d/Tp+VXUcTnSdzc095Ra7iXaIAEZ7nJ/wA/jVvlfnkOD1I9KoLeyQ/JsyvUjAA/w7VIJnkU+/Vvyrxq6TldHo0m7GbfOI9QEqnAzhgOmD71XmtfNhkmXq+SB6jj/wCua0p7PKDK5ABOB0zWIupvHfPbycYG0Z4x/ng1zxvfQ7U7rQmimVDHIcYB2scdQasW8f2O4IViEY8A9j6VUuEAm/dnCTDn2YVHf3EhNjHC37yRwB/KtLXJZ0y3PQMDtQEn0PtXIeJr8zJGpJDsSxHsfX8h+Vddb2ckiFmP0X0rjvFlp9nmEo+6x2jjn8/wr0cA7zSZ42YK1NtHN5zW5pelo1g1+8gLcqI+mex6/U/lWF17Vs6Ve5gjg5+RyMY/z617NdtR0PEwcU56mqkM7QghzIx4DEE5Gc846EVWuIGV2LxtgDfnJ7dvU9Tg10Fnbm2sTdMRsIJ3k8fXjofwqtrTSLZB5BiRuDH147HH/wCqvOi7nqtHISop0u7nD/vGmWHIzkR5GeR25/SsmYrFdSz4w4IhAb5uOhP5A/nWrawPZ2eqWEzANDPvbB4VWH3s/TBqvbm3hP2+5G6BU3rD1yzE4Ufl+lbxdjNodqMiw2ttpyRqTcgEtt5Cjp9CDu/z11tPZIQIdm1lXGemeg47HjFZWnR3mr6wb2SLyzjB3H/H8PT9a3/7NMEwTPRfmTsB1HYcDPb1qJvoOKLL2rXKsFzuztYD9etLDpE8Eq3ImJckjy1G/wDD2qKBpbY4i65C8gjjGB1+n41bWeQysAfnT7xY5JHoCeB/9ftULQ0Yy90yW4spJp9kS4+8jZ2HPUj19uTXna2c81+Ehl3yl+HPb3Oa7rU9T8hBEhd933cduxH+eeawtJsDeapCWJUs/OOhz+fT0xWqdkSkbl5pjWehK6quC8duHAIz1Zv1GK5jUlEF1g4GRkV07x6lEDbXk7tEkhdYz91e3H4Vh+I7MTRxyK2HGcD1p4eVpGWKjzRMkSKe4pNwPQ5rKZSrbGzwefenLu3ZVtvt6V3cx5/sTSJpDVRZJFUc7jUomGQG+8fShSTJdKSJDSUZzSUyBDTacaaaBjRThTRThQA4VPDA0p+UE0+1tWlYE8DP510FjYdPkbb3x2rlr4lQ0W53YbBufvS2K9lpIcbth3CtZNPCrkLke46Vs2tl5KAryQKfOgjU/wAJ/Q15FSrKTuz26UIw0ijnZ7cR5OOKzX4OBWnfyYYjPb86pQReY/PI6kVCZ19CW3RljXIGWPHrXTW8W6yI7gelc6xxIgHIGB+FdLpjhleMYPHUVrTVzjxDsaOkQpdQMpYo47jrRc+GIZJDKx8wg8Fjk0yzdoHyDg+1aP2tp/3ZH5nr/n1/ycpTcNhQjczYrMIvlCAMmeDjoPY1a+yRlQAD06VeiRQBwMHqSOKeyIDnd1POT3rmlWm+p0KnHsU0sQADnnpnrzVpbJF68KB1NOieNZcqykHrzg1ektxPDtR9uR1BqdZCfuspPbA20gi2k4OM81yun6eus/aIZl23KjaW7n/PNdNaQtp00omn3QnkZOcVSs1itvEUkkTBoJRv3DnnvT5GrMuE7XRy88MtsNsxbdDKFP09f5GjSoRcajbSzfK0bt1/H/69bGvSW01zP5T7n3LjaeOv/wBaqGnstuUHEgCbnk6bSTVJMt1LxOr0aIq1yhJYBhgk+vNc746jgey+TYSp6g9OelYF94vvX32+nHyYWY7pSOZPp7VZ1+IWmlwxOCJjEC+eOcdxXfQpypyi2eZibThLU5MCorRLqTVDDazCOT7y5GQfrUvan2rmDU7e44wp2t9DXtVVeB4GFly1LHoFrrcNv4eh/te1CM7GGXDDDHpkA9c/5zUWt2sd9/ZX2OYypGwB3E7lUYPzd+gqhf29t4gs59FWURzACW2L9Ceu2uaPiDVdAutNsdWsGRrV9pmkUktGTghT0Ix9eg6V5kI3TaPZk7PUt+JYANfvkQ7RPb7CV5O7jHPtjH407w7py6jrW6fa8FtF5e3GQTgD+YP4AVoa3ZfZtSnjU712+cjKOdp9qXSXlW/8i0jyZFAIIxg+v6DrQptRsJxuxulJdah45uo7ZmjggjCHBA49j271r3E8DalLZWiNIYjsdkXcATyRnOSR/npVAX9t4M1O/mvJ45Z7oBjBGCzpx3qnp3jLw8+AxuYpMlnLplT3PA/nVWb1sLY6kaVMqkygKvGcjH45HAP4iqVxAlsQqKWY8YK/KvPT6+4z9anl8X232KOZY5TbyABH25DAccE9cHtWTLr9qXNxHcJ83Ujg/wDAhSswTLb2ySQlpQpOcFlGcn37fnimpbRRSgxKEaM5wOCDVNdQWUq2VKkdjn8+/wDOp47lUYsDkd+c8VLuWmWb2YXMio/MmOvauW1uMjOeFjNdGsyzOJMjPqOtYmskBX2nkk8etbUNGYVndHH3kRdPMOAe+KqJwQD0FaMoKx7wFPc1WEQkUtnJrsuYIliQv0wAfSrbWR8rIAA+nNRQxlAPlzmt+zi83BCggjpxmsm7F2ujmZIpI5NqL8vcAHimiQMSAeRXRXWnSCQFVAzz2ArFltGGUCnzM5IB4FaRmYVKK6EBpKQko21xg/zo61sjmasIKsW0XmyAdqrqMnFb+mWh+VcEM3rWNepyROjC0faTLtnZLsBCkjviuksIioUkEp/KqgiaLYM9O4rcsxwNzHDeorxZyu7nu2SVkWEixHz+dZmoy7U7VqXEgiix0wODXMajcGSQqp61i9TamuplyfvpcjnmraW6KgwMHFS2tqoyx59qsOgA4NJs6LmbszJz+tadhOtvOozjPHJ4qo64YHk8065VTGGAHua3pPU5a6ujbaU+bjPBNPm1OK0ABbcT2JrLgnZ4Ac5wO9UbuxmuZMhiMdeKmtTuyaEktzrE1m38jPmYAH96uX1LxDc3s5itWwB3/wAO1UY9Md5PKeU/ia6TTdAt4ImMrAk9GIrBUkjqdSKK+jJdzPm5u2VOn1rf1S11m1sUk0ibzcffRmzx/s//AK65jUnOl3O1VPlt/EOlSWuv3VuOLhSh5Xdu5/EVdP3XexFRc60ZVuvEha2mi1GFkkGRgkqQfoQKoeC9Uk+2PbXBkWCeT5N+cDP1/wA810ttc2N9LsnsgXZuokJB/Cp/EFvZIsEFlbL5qjcSnVa6XWp2tYwVKd9WJf6LPBeMiAEMAykdqpapYzWGk38Z5kki2jHYnAx+tdHo14b1IpbklplXHPao/EkDPaM+3DKNwwO45H8q5lNKVy3CXwswrHw5p3hq0hvL6Vr26ADQw5wqt2OO/wCOfpWFrd/Jeu8k2DJK2TjoB7Vs3kP24Rygsqkc84zXLXMgeVt4IA4UBhwK9DC3rVLvoefjpKhS5Vuypijg8Ecd/en7k7ZP40ZAP3P517Fro+ei7O6JlEiOkzNuWEjbIoOQOxOOR9c11N7dzan4Ovo9Uu90ixj7OoKMsnGQfu5zn6H8awdHLNfxIVTy2O1g654PpWn4jsjp9tbiSFsFgu9lx+o4PY9s59q8qqnCVj3qMlUhc2LPTTqEaXRYlREsYB54AAzn3Iohms9CvLy4kJLiA+Wevzf06ityzRbXSFckFWUH6153rs7av4ggsrTerFs5T6E/0rkpy5pHVKPukfh/QNT1WO61p9Qgtjdloy0/zFiTjn05FX7fwt/Z9stvqOu2KWg4aO1BkdlPOM4GPqau2sVxplv+5hVk6SQno3qRng/T2rntVaOSaWWJWkDHLRTsQ6HuBz6/jXSpuWxzuKRt6p4ije2FpZR28enwqFVSASMDjr/OuVj06bWpmdQ4iPfsPp602OHz3UTDyoxyY41LbvrWuNetrLEaQSbSeWZcY/x/SrV47E6Pcw7mw1HQpA0crSwZyUIxV2PX45I9oyrHggtWnN4i064i2y7jn+HZn/Gspra3vp1aCIgepUdKd7/EgtbY1dKneVsK2faoNXmUvgYb1BrQt7eLTLIseDjArCmczT5Zhns3PT8K0prqY1H0KE65RgVwO+DnJqkC0bZzx9K1HUCXhh0wS2OKpzwcEMOe2RjFbXIsW7eUTAKTke9b1jhfl3DAHHt+dchFIYJBk5A4z2rfsbhXAOeenrWU0aRZ0UkQaMtv+Y8k4zx+Nc9f24BVVO/HbBGPxFbkcjTIigjbjp/jWbqWUcBX6nt1P+falFg0Yuo2hWCMomQf7oz+tZgODiummRjGiyAEAZxnFYs9orTExZXOWwelbwkc9SFyTSbB7ucEr8gNdda2rRSKAo2jjr0p+k2KW9sqjBIGCVq+8eyQOpz+lebXrc7PSw1JU4izxqxUqPrWnbsEjUL0I+v4VSkG5Fbd78VMjFVX5t3GQexFcjOoi1G4CocHGecVhwjzpi3XFT6lKWkCZxuPenwKIlUKOT3z1qbaG6dkWgoWA8Yz3qv8rD/CpLiTbEFPBP4UQRM8eT0NRYq5BJHlMnn8aUx74sjqByMVZaIlBkDNRKDG3X5G4PPSrizOeqKEUotZDvztbjaMVtQJHcRb4j8p9xWbeW2QWXlSM5qpa3MtrN5YLFXIHzHJ+gHYV1RaktTjmmndGxNYkfOAu8dxzVaW/wBRiBUEsR6itGO+V/3QcM2Ms2elMMkZOdwK/UAk01SRLrMzHnubqLy7mAMD0I4Ip9rpck0imOUgf3emf1qcyr83ADDsOau6fOgmBb5QOwG4n6f403RVgWIkg+yfZUESxF5HGAOck+gq/o9g06l5FDTgEOvQADqAD161NJeQsuzbbyAHJST5sY5JPBqCMWccpdbe3ZM5zEWUkkdcg8c81zSoHTDENxIpGTR9VEDMyI3K7uAfYVNrOsQtp7DcuQOBnOaZr9/pV9YhboRKF4UKxLjHTn/PWuNsZLOzvPtE5aeFW/dh/wCeKcMO27I0niIqPNM7CSBdP8LI82zcYhlM+3SvO3Vd5bykHPBLHFamsa3Nq0o52IvChehHuKzMFuFwkmOR2NezhaHso6nzWNxPtZ6bDcgdY1/4CTTgIyvzF198j/Cm/dxwC/TjkU5jscbhvkz0PQe1dTOJblmxkiguElDTeWrcsSoH0r05ksNY0X7JOymIqAjAfd/wryc70dSGDzNwpHRR7f59TVm012fSyqwMXQMS3JG/Pf8Az2A9a5K9Ln1R6GFrKL5WSXHiHVdOu20PZ5jhtkZByW9MY/yK6/QdEt9EtZNU1yWE3TDIH8MYP16k8dv8TiQbL+7XVLJ1W624OeuK1m1LUZiq3FrHOem53IH6Vwumlsj03UbW40Xep3Up+yS2/wBjdgWCWskm084PQdR9Oa1jo1jFal3QS3GMl2gOPoBz/Wstbq5kKtOIpXThT5rAqevYjPsevFVrjWkDeV5gkTtnPSqjTIlO5Wv7cF2AVWYnGPLK/wBKwp9MmfOElWMnlUl3KfqDg1pvIrtiKWRN3ZX4/I1btJ3hykk6SegkRcYz3/OtErEcxVtPDNq8Sysi+Z3HHJq2LWGx+X5kI7EDp6j/AOtU/wDacUcTNEyoV4eMtkDnHftnvyPXFYOp6wztiOTK9MDnP0z0PtRGLbE5aDdVvgzqqEbT3wRWeuEty2csfpx+OKbAon3yHKjPIHQ/h2NSThnl2DgD+IjBxW6MiukYY7ipK5545zVe6wJOQNpNaDfu1A+Xjt1x6+9ZF3LtuAp7H1/lTQBdRhkCjqB25pljc+VIFYH5TjirEjMxG4jGMZrOnBgmDL+OKdroE7HXw3W+NCW4PbA5NNu2HnKAM598ZrIsLosseSSd3X2rRmJeXk4AP3R/n/61ZWszR6lmSMGORtufl5GDgVUhgEkbMWA7cirE7EWg3MTuOcemKdGmLcBm6dN2Mfp1qkyWjpYVChWQb8+hxU8uG44U4yD3qvAxiYFk3+3AzV9vmT96UVccAY4ryZM9NFcNviKEZwfmA/nUZlKIVz93+Ic1K2+MlQgCHqSP6dKrzgRsjKRtOVA6456e1Z7miMyf5rgE8KKmicHLdqgujsJKsAjEYyaVHKgYO7tkCtVG6E5alkAzzhFYn2NbMUIiiCkViW1wsMwCkH/exitRU88hnuEB6/KeorOUS+YleMYPORVeSHzIzxgj86knljVVJdWUcBge9NgmVzhGTj3Gf50kiWyug+V0IO7vmqdxbFUyOQfXitO4hOd4VfzHFQhlfduQP6YBxmtY3RlKzMy3BCMkZ4z87Dv6CpHjYYOKtCHbkgYQc7euPr707tgqQSMkHtXXDU5J6GbIrdc81DvkjbcpPHetKSPA45GOQapSp1KH/wCtWqRk2TxawQAk8YdP8/hVhrewu4wYbraepUvz+OaxnjmdC6xsUX7zKMgUlhYxalq9laPKIo7iZY2kLABQTyc0cie4lVcNUWpotPt/meZJCD0DZ/Sse4nM8pKjao+6B6V1viHwBcWPiFNN0ZZrtHhEoJHKAkj5j06g88V6PF8PtCGhrp0lnh2AL3CnMqvjru/Pjp7VpGVKjqctWdau7PRHg4GK6PQfAuteIoDcW8axW4BKTzEgORxgdz/LiusvfhHN/aIWz1FBbEKSJVO8euMcH17f1r0rTLK30TTIbK2ZjBCDyxyck5Jz9TV1MXFRvFmNPDNy948Yvfhr4g02OSYRx3CIhbfDJ6dcg4PSsa78Ka9ZWSX0+mTm3ZBIXHOAemcdPXmvoUXZkIdVAjYdScH8qnIE0ZQbWjYEMGGQQe1c8Ma27G0sJE+WWLKrf35OCfRarzAEY6V7i/wt0u41TULi4mcJMxMEUJCrECPTHY9ulUdP+Dtgto39qX08lwT/AMu5Cqoz7g5OP5/jXUsRBoxVGSZ43Z3cts+6KQpzwM10H9sXbbf3hBI3Yx0GKreKfC114T1hrW4+eB/nhlXkMuTxn+8O/wCHqKyRM53LxvlGCc52r6Vk7PVHfF6GzJezS7QXZWweQe45H+FMLZ+bGNwyfY1VUrvbJwE6tn86a2ZCVc/KOir0+lIotLJgM27gDlvSqk94ZZyI2zuXcM98jp+uPwFNmLGPY3yj+6vb/GmRxhUy2A33c+3pSGAkkvoFliYrNH94DuB/WnxpEF3YBjJ5GScH3Hf60kO6OV5Ixy/PPQn/APXUgALEs4jycYI7/SmIlcs8aqFYEDAOeopFRETdjcc/dODinK3yhSwGP4Bj8CKrzTqQAC5J43bcc+/UfrVIhkVzKSzIFbn+Enis2SKQSBsbnJ4A61eeeGzTfIWeQ9E25xVB7ua4cH7O4jHGADnFWhMnJYJyQrD1PWqczCWLKqBj8xSXL3AP3SF67T1qBZAy8g7j19jTRLLmlsxcoTnngZ61txMSxcoQe+7t6Vj6fH5cwOMgnnHatpo2jkU79wPTIH5VnPc1jsSyAS7X+8Om0DJHt/nFTlnjhBXIHr6c/WoUAkxKFDL3QHoff1H8qm2oWA2gRngKw4+tRcbR0yxiQZwce9XrWzWQcyEjsMcCs5LhlVEQg9uB0rRiVlVckux/iLcA15zid/MXmgRIiijJ6detZE9rvZiTnJzg962REBEVOVHfsT/gKjltFSMmMkyH+I9B9KhxY4zOQvlDhkzjaccfpVdZAYtuCSO2a2rqwYN5g+d/7x4Fc/dwOkhlUkEdGz1A9q2p9hTfUv2k0cIYsu5z0AxRdW9zcxs8kpVT/B91azoLxpNoZVznueatNNLMwR2Aj7e/+NXKn2JjUsS2ehpJDvMmQe6kgVnajBBZPsilbzR1YNgLW+t15NnsGeeAMDJ/z/nismO1e7vQ5xtB3E9hWCunqdCaaG2k2oRW3mtMxH/TRc8fzpf7bvC6qVTYO5GCR7c1oTxtMxhiGUHB9/8AOM019OSNnXguACxx19fyz+tUpkuCZFFrOGVHiLA85U5H1q611HI4aM9R3HNIunqrZAAPQYHXFXYNOhlfZIMFvuuvrWkayOepQb2M+SYYGMgioWVJpANwjkPfsatahplzpsmySNiMZXA6j1H9a7jR/BumHw4k2owl7i4wysrHManpjBxnHPfrW86sYR5mcfK72Op8O6NBoWjRwrEokKBpXTkyN/npU5MEWoxI9tbw74yASBuYZ5X8CQe/WrkUjsMsvloBgbqeHjbBXDNnAOK5pVOZb2BKxAGt7SOaVI0RSSxVEwc456dTUI+2TtDNFL5UZHzxOvJ79asXUCXPy8q46GrCIoiVeDgYrHklObi3oVzJLQyry/ktmAWMy3DHasaDOR157CtK0VzbJ56qr45CnisvUzNC6w2W0zHJAkJwB3JPPFXtP+1JZoLp42k/vISRj8etY0JP2zU9vwKmlyposyFUAwOOhxyRUYcYMca7GwcYHH1qtPNLcPstRkBvnOMD6UBri1tHPlmSfOSPX6fhW0q15aLQlRstSWKOSNT50u5jyDjAFWo2DJ2PuOainhFzbmNiV3DqDyKoWMNxaRnzWXAGNoHJA6fj0pqrKjNRtp3J5VJb6kXiDwzpOvqn9owCQxqyxncRt3Y5478CvOte+EVtYaHNd2l9PJJaxGRojGCZSOTjHTgdOa9bhkDqoKlG/umpSAAcAV205cy5kTqj5Tj4c74wgHQEfd/D1q0dpVXyORnHcV7pceB9GuvE02rzwJMJk5gflC/diPpjj1ya87+I3haHQbxb61kRLa5balqqY2kDnB6Y7/j+VxqKTsXc4klSAc85546ntSNGqjc/09gP8KcZNsQ6KRzknp60hlVcZUlsZ2nvWgMUxMyLgle+TxQUAUDzFLHhvQio5GlwBkb2P4LVVvmJjQtt7sP1P9PzppCuXfLiKqjSZPZW5P59Kqz32m2khTzWXJw20EH8RVhdGnu4QZWCQ578cfWpzocdtlYWjd/vHzFzx9ev58UXQWMkaro6SBgXkyfmzkflVuTVLIwiWAqVHJU43Cqd5YQrMVZBBJ1KgBl+vHb3H5dqrtZTQbZfskE0J43IoIb6e/8AnFWkiGXZJ4b6FmRdxxkoWHH0/wAmsVYz5pVc7evStIiKIrJDDs3feAHGKlW2VXySGJ7HrVJ2FuT6dbnbu6g8+n4VchLebsGQc9P8aW03JEDw2DzwOP6EdKtwwtNc7+fcHIrmnLU3ihLeICd+fLyeQ3H4dq0BbibBLtjsQKlTTJARJE3zHqjdGrUtlG0LJAoPAb0P+FRzFsxbOcgcLuC8knv9K0YdQ8v53z5jcKqnoPSse3mWJOmTjp/9ep4nZ5jJkBV6+/41gzoSOospjORJN8iDtnr/AI9q0WnSU7EIz3J7VyNrdyvMqH/VL1zwDW9DewW+N2D8uVA/X8KZnJNFy8tlMeD6ZFc1qFqFtQOrKuM/l/n8a6P7ZHOG2tnjJPqaxdQJQbgDtJAYe3SqUOpHOcfd2hCoV4PtUUN3cxsFY5wccgcVv3cS+QpAyqnr7f5zWDcR7SQpOQPet4ruRJl+PUHmKIYSADgsOc1sWskDgRAkvJw+Tk+4rh5GlhA2k/SpLfVZrSUNERnHcfypSopgqrR6ZBZokitgNj8Bk9KYkAlRg2dkmR7qTz/P+VY2ia79qgZZZBFKp+UlsBj9fzrVudTgscxIvmSSfMMnAA6f07VxVKTiehhr1nyx3LsVs1wyxqpMr4AQdScDBHv/APXrp7bwVdMyTT3KRIAGZcZJ9fp+tYHhXT7vWrwXhuUiSB92UYFw3bg/1r0+3aSUFHBKKMbiMFqUId0RjOajLlT9SF1gt9PUGMyRgcADJNCJESJRn5QNqHgL9BU90riMNEoZumPTPehrdJYwJFOF9DilUjUk3FdDz01uyTYs8YVunscVELLZcrIjYQDlTzVmJEiiCqAFUcAdhT2+4SOuOK3VGLSlPcjma2K0skaKQ5AUd6yNIlluZ7idGJticIc5ORkH+VaMKu4aR1yTkjI6e1Vo9QiE8kMaDcrfMv3ef6159eSU4zm7I2itGkX2t4x+9YAuFxk+lV75JZ7FktZVV24BHYZ56VmXetAOtsRguccnGK3bQwi3QRKqLjoBitaFalXk4R0FKE4JSZJBGIolX25PrSuBtJHWqOq3EsNsfIjaSR/lAXsT3rOl1K5tLJTOrZwB93JJPQVtUxcKX7u2wo0pS1LU88s2RBNsw2CQM9KfBfK062rgrLt3H0x9adptn5NqHJO+U75N3PJ649PpUV1opkvIriCcxMilSOua5eXEJKpFX8ir078rLLpmdJlOCMrgntUjSO+5Y1bcO+OKpz2RTy5JJXbZ3B4P4VciuEkjIibcUODV06jvKM1YlpWutSCOIpMzl8sTjBbj8qx/E3hWDxJapDdyCN4n3JMq8gd1H1/oK0ZdOhu9RivFlk8yHI2huM+49eTVye3S6i8iQHaCG/I5GPxrSlez0BvXc43RvhlpGlXZvbpjeyLjYsuNie+O5+v5VifFPRbOLT4L+z0+OBVf97NHEF9AAQP5keleoLHHAh259T3JrM1TSk1u2kt5ppEgfGUXuB0znjHt7VuqkotCSTep82vK0kYbDDIPUdv88Ve0+1hhQz3JURoMnPT/AD2rpvFPg+Pw8yj7clysh4jI2v1znHpWKLGG6h8yVHdIhxFt+Ue5OeT7flXV7VSOiWFlGCqdCrca5p7BUmnKqWwgTsPX61Umilu5i9nf+eO6sQsifj1qKR9HkuWhv7Mwqx2rNkjHuajuPDk1s6zafdEyINyMW4ZfTP8AkVSSOdsku9PvJLdUuszR/wDLO4RfmQ+jAcVjRtdaZcCIsUyeD/C3+I/l7VrjVtVgUNdWzZHBZACD9ahmeWYKWI8p+TGVDfL6g1rHzM2Njt/tMv2g7sdXTv8AX3+tBVpZjt49KJVSLakJ2jAxg1dt4MlZDwcfzpSZUEXrWATWY3HLDv1xXRadbxyxAhMEDkdxWboqbwcjg/eBrehT7NKNhwV9K5pK7Nky2sJgG2QDaeQ3aoriQwnCrkd19u/14qy9yhtiSFPHKZ/kaw7y58uTKOXi+vI9cGnGJDkc7avmIL0BHJq+buJIFiTHA646/wD1qxVmEcMaDqRzUvn7EyduT+ZrnZ6Cia0d0RHKRkArycURzFmU5yx5P8qyX1FCmGbjrwKs2cxuH+Q7c8ZPtSTsEoXRv214UswGPzFgOPrTZ7lZQwBzlef8/hTFtreK2DzzDAIIGcVnz39lFIyxtk57HitoTVjklSbehPLKpgZTnGQfwOf64rEunCzYx07+taVtH9ryqzIoP970rSl8JrKiyNeovHpWqqRM5U5I46bDKOORVGSMbjg/Suk1LRFtSNl4jYPSobTw1Pek4kT8+laKcX1JcJdjn4pNmATjHSum0me51L/RlnCyoMoGzhsdvy/lVLVPC9/pyl5FDJ/eU1Rsbt7S4jeMjcCCOaJxUol0as6M1KO51P8AbN3od2qTBoZiMhgSMj2IrdsviNqMeP8AS9wHZsH+Y/rXK+LyLmaxmB+9D+XOf61zoicdCQa5HA+woKGKpKdSCZ7LB8ULwY3x27/gR/Wr0fxPBGHtIvwlx/SvDx569JG/OnCe5X+M1PI+5TyzBy3ge6D4jQOhHk4J9JR/hVuz+INgkIjlSZiO+5TXgQvLlf4v0o+3zj0P4VPs2ne5nLKMG1s0fRCePNHCbQJlGSeQD/Wlh8XeH3k8wqVfP3jFz+dfO/8AaUw6gUf2rJ/d/Whwb31MXk2FWzaPoe/8RaBqFsYZJ2GeQwQ5FFv4i0mG2jj+3SOyADewOTjua+ef7Vf0P50n9qv6H86j6uuZytqH9kYdR5ed2PpNPFWibQGuiT7qaWTxVoUi4kuFZeuClfNn9qyeh/Ok/tWT0P51ooSSsZf2Lhv52fR0vjnRo+FuC3sB/iaF8daL5eWuCG/D/GvnH+1pP7v603+1JT2FUlMf9j4O3xM+hF+IGmIjCVi5zxjb0/OqR8d6VFcGSJXCkY2l1AH614R/aUx9KP7QnPcD8Kl0XLctZZg47XPdE+I+nQyNIkGGbrmUYNRTfFGDb8lrGf8Atr/9avDzdzt/HSefMf8Alo1WqbStcX9n4NO/Kz2Kf4oS8GGKJMe5b+grGvPiNqU4IF0UB7RqF/8Ar15oWkbq7H8aYQfU01S8ylQw0NYwOqk1KbVLonbJNOx+8x3H9auohsIm807ncfMM8L/SqHhUJb21zduquy/Koxnk1NcXiNJ5So5fZgAgYI6kZ6Y5/SnyJM8vHYyU/wB2lZIbdf2fdYs9WRYweUdQf0xWVCt1ozeXbzC6sDgruOTHnp07fT8uxuS2k0sJUETQZ5RxtdCf7p6ZrOuLa6010kh3qpx82OGOc4I7enHpW8ex48jQmuLOSAXAZo58f6vBGfbjr/npWPLLIrMUwNx+7jBT/PuKtTyrDBHPKiCVxkIDkfX2rMWZppgznPOK1SsTuWraAzMrPzyc1qDbjYvPy9fpWX53kxhFHOKs2zHcFHIOR+dS0NM6HS38mIsR94Akf5/H8qsXmoeRc/uzwVVgw+n/AOusea68kxRIQCVIP+fz/SmyzIZFllGFjXBHrz0qLDua51BgzI6kAj16Y/w/lWRe3EiSlk6jk4H55/x6H2rNnvZPNMgbbkg4z2IqJrq52Zz3J/DjNNIdjON5vnPJ2D37Usly/XBA7ZrHjlKEcnrzU89wSu0cdzzWTpneplhrklsk59q09O1II2Dkp3yc1zZkPXNSQ3LRNlTz3z3FDpXQc52tzeReSGjbf6YcZH5isCW8DSkrkfl/Sti38L+JdT0U6ja6XLLbDuo+ZhjqFJyfwBrmWDq5V1KsDyCMVnGnYamnsdDpt6NwBlII6EjitmbVpVg2xzK3GMK+T/n/ADiuOgjkETziGZ4o8b5FU7Uz0yeg/GnzX8bR4/i75AORR7PUHJF2fUmaQlmJOfXGK1NI1nyyBnKjkA9vpXHPL+PvTre7eGQMjEf7prT2ZEpXO/1PXCYSryZUjoa464uYvN3RE788Y6GoL6989VIkyQKzPPIfIYj6VrCDSOaTR2E9y1zaWpY8plf5UxRXYfDCC11LSLmG9t47iPzB8siA44P+FV/HGjWWianbCxQxxTxlimSQpB7Z+tY1I9T6TJsbGyoPc5oKPSgoPStfw/4evvEN0YrVQsaY8yZ/ur/ifau2/wCFUo0Py6s3m+ph+X+dZpNns4jM8Lh5clR6nmBjWmmFT2rsNX8Aa3pamRYlu4RyWgOSB/u9fyzXKkYJBGCOxpNNHTQxFCur02mVjbrTTbirRpMUJm7pR7FQ24ppt6uEUmKdzN0YlI29J5FXCPak207mcqESp5FHk1aIpMU7mToxK4hpwjFTUU7mcqaRGEFO2inYpDVGLihuKawp+a3tB8LT6yBPKxhtM4345c+3+NUtTixNSFKN5FXTLgQ6XJHtBaR+Dgk+nA796k3yBQywCQoMEqfmA+h+p/Ouz0zwXbPLcW+9mgiICggEknuasXHga1QbvNdXPU4+9UtpOx8zVlzyckclYkTETIHU5yHxtOf7pHccda19UKJaAtjft4HpVw+HLvSszk+dAOCy5DKPXH/66zdQcXWoRxY3rtzn1px3uYyORvbOa4LTODtHQelUltWiIZhxXc31pHFYm4x8vf0rkNSukeUIjALjJraLuK1hLLT7rVJ2S2jLbRlm7CvRND8AhYUmv5CzD5ti8YqHwLbWxsbeJOWmYySN6gdBXe3M20xwI2C5A9wKiUxKJzR+H1i83nrLIW64z0qldeAlEZPmZx0zzXokEaRRYHPHJNU0nWd2A+Ze9Z8zKseQav4VeKEeXnK8Hj+lc20xtZvLliycHBB9v0PP+Ne7ahZRSRswADCvHvFltHFdNtIUk5xjpVw1E2cc2mE/df8AMVG2nXAGA4IrcCA0pjrNVGjvdNHOtZXA/hz9DRBaztcRJ5Tks4AAGckmugMQNKLfLDAOc8YqvakOn2PqXTbO30zTbeyhUCKCMRrn0Arh/iB8OrTxEPtunmK31JcZHAWUcD5vcDofw9xz7eL/ABM9svlWXzFQC8kmQfwHP6ioLHWvFME+9orUsTkbiQF+mOn61zyqvdIyhRkne52PhPwvD4c8OvpNyBOLxX+0M0Y5yMEEZIxjjrXzVqMbWepXVoreckEzxrIgyrAEjINer3tx4zuIblZNZxbyZ3RoADtPYHGQPxrh2tth246VVGo1fm1L9i73ucqWkz9xh+FOXLnH3W9xwa6Qw0nkiuhVV2D2T7nNvDOD9wt9KEgkZhmF66NoB6U0QjPSq9sR7HU3PA2tp4bmeadZDDINroO3I+b9a6P4ganYarDpd1YzpONsmdp5H3eo7fjWZ4I0e21fUpbO6jLRtC2PbpzS+KPDf/CM3dvbrO00MqMyFk2lenHvWMpNnr5fGjGrF395Hq/gqwisfCdgI0CtLEJXOPvMwyTW3eX9pptsbm9uI4IQcF3OBmqfh4f8U1pn/Xsn8hXD/FqV1Olxbj5ZWRtvbPy81V7I8yFF4rGOm3u2elxTRXNuk0MiSRONyOpyCPauJ8b+DYdRtZdRsIgl/Gu5lXpMB1H+96H8PpV+FN+8ul3lg7kiCQOgJ6BuoH4j9a9CIBHNCtJBL2uW4q0Xt+J805rf8H6FB4i1prK4lkjQQtJmPGcgj1+tQ+LLNbDxTqMEa7YxMWQDsDz/AFrb+Fv/ACNzD/p2f+YrGK1sfbYvEy+outB2drnRSfCewP3NRuV+qKarP8JE/g1hh/vQf/ZV6aRTa6PZxPiVnONX2zy5vhK46awp/wC2B/xpn/Cp5B/zFk/78n/GvUiPamkH0NHJEr+2sb/N+B4F4o8Nv4b1O3s2uVn85QwYJtxzj1rpx8LWON2rAfSD/wCyqt8S2D+NbCMn7scefbLmvUitTGKuz0MXmWJhQpyT1e550vwttx9/VJT/ALsQH9alX4Zaav3r66b6BR/Q13rCo2rRQieTLNcW/tHFD4d6On3pLp/YuB/IVPH4K0GH/ly3/wC/Ix/rXTuKoX91Da20ryTRoQjY3MBk496fLFERxmJqSV5M8d0nTP7X1mK0ThGcliOyjk16TqV/baDZQDZhA6RRxoOvOMD8K5L4eIDqF1MescIA/E//AFq3/E+my6pFbNbuomtphKgfo2OxpQWh2ZlU5qypy2SOy0JB9nmkbG9nyT+AqXUlV5LYAncGJAHc47+3/wBauJ0vxvFZxzW+oxSW8yvgoFLZxgdqg1Px9M13B9g065mhAbJKbMnjpmudrU5OV9D0MlBaMWH8JzmvD9Y1k2mszizjE21ypUH7tdFe+O9WmsHht9KkiZhjzZjnb+A61xcEAjdtxJcnLFupNaRdkSoNsv6jr97c6QLbyPLDfeJ7H865QxyHJZyTXR3ag2+BWSY8npVxkaOGpveD/FUWjXMcV6xSNQVDY9a7G78d6RBq8T/blkiwOU+bH5VxWk2EUqqzoGwe9as2l2skqboIz9VrKUlcagehJ4z00WjXAuo/LwTnzF/xrJ0/x3o8kWBMyn/bQg/lXOpodike5beMH12ip7a3hijwkar9BipugcDX1Lx1bBStvb3M3bKxkD9a8516+m1O53C3aIdeSM1017tC1zd6cscYrSErEOmisBT8UwZp2T6Vhc7h4FTwL+8Xp1quuScYNWIN2/pSbFY9Is50NnGcjcFGTVK+u8OdprIgvnSEJg9KgmndnJ5rMzUdS617+6cE5JB61yMwzI31rUml2qTk1lu2WOKuJexEVpQtHPvS8+9UMRlpm2nMT700Eg8g1VxWZ1/gUtDqFxIn31gYrz/n0qr4n8VQ+JbG0YWxhuIc7juyCD2/Op/BrxLqDBmZS6kZFZevaBZaIY1sbh5Ubht/UEU9WjtwcYxqe+tejPavC0gl8KaU/rbJ/KuL+LuFTSZD0/eg/wDjtdR4Cl87wNpp6mNWjP4MawPinELiz06M/wB+T+S0+ZNHJhH7PMLruzm7Xwz4x0QGfTdyLKoJaCRTuHbg08+JPHFllZ5L1iPW03fqFr1fwzOl/odk4IbbEqt9QMVsGONQSyL+VHK+h0V8299qtTTfofN2q3t9qN811qAYXDgA7o9hIHHTFdL8Lzjxjj1tpP5rVr4pmJtctXjAH7kqcex/+vVX4XYPi9j6Wz/zFR8Mkme7WrKrlbklbQ9oNNx8w+tSUmK6bn5/azPBdc8Ta1b+INSji1O6RFuXVV3khQGPABqh/wAJlrq9dYuB+IH9K+gZNOtLglprSGQnqXjB/pVVtI0iBi50+yQj+LyVGP0qJU5JXPo6Ob0eVRdFHzte6ldaheC8up3mnGPnc5PHSrzeL/EDH/kK3I9lbH8qXxc0L+LNSa3CiLzyFC9OOP55rE4zWSPpqdOnVpxbgj0P4eatqWo69dLeX1xOgtiQskhYA7l5wa9HavMPhcudavj6Wv8A7OteoNxW9N+6fFZ1TUcU4pWOL+JEzR+GowrEbrlRwf8AZavJt2Tk816f8UJMaNZJn71wT+Sn/GvLh1pSep62TxSw+q6m/wCFtZh0jUy1x8tvMux2/u+h+n+NeiPIkqq8bBkYZDKcg15fpOmRarI0bXHlbeoC5zW3pME2j6ythbXbSWrKWeNui+49KcHoc+aYVTl7WJ03lI9y7EDrUdyi7l2jGKrpeqCxznk1HPeqTXK5anBFWSRNcbTCR7Vxt6u25Yj1roprsbDXPXPzuTVxYPcrO2UxVTA3VZkUjtUJGD0q7gaulyeWQK1/N3EGsWxXIHFaSkg96lgaXn/JiqxuCARUTPgVCzE0gGXUxINYtw2Sa0Z84rMuMqCatEs//9k=\n"
     ]
    }
   ],
   "source": [
    "from together import Together\n",
    "\n",
    "client = Together()\n",
    "response = client.images.generate(\n",
    "    prompt=\"Cats eating popcorn\",\n",
    "    model=\"black-forest-labs/FLUX.1-schnell-free\",\n",
    "    steps=4,\n",
    "    n=4,\n",
    "    width=352,   # multiple of 16\n",
    "    height=256,\n",
    "    response_format=\"b64_json\"\n",
    ")\n",
    "print(response.data[0].b64_json)"
   ]
  },
  {
   "cell_type": "code",
   "execution_count": 48,
   "id": "7131df99",
   "metadata": {},
   "outputs": [],
   "source": [
    "import base64\n",
    "from PIL import Image\n",
    "from io import BytesIO\n",
    "# Decode the base64 string to bytes\n",
    "image_bytes = base64.b64decode(response.data[0].b64_json)\n",
    "\n",
    "# Open the image using PIL\n",
    "image = Image.open(BytesIO(image_bytes))\n",
    "\n",
    "# Optional: Save the image locally\n",
    "image.save(\"output_image.png\")\n",
    "\n",
    "# Optional: Show the image\n",
    "image.show()\n"
   ]
  },
  {
   "cell_type": "code",
   "execution_count": null,
   "id": "191417c5",
   "metadata": {},
   "outputs": [],
   "source": []
  }
 ],
 "metadata": {
  "kernelspec": {
   "display_name": "venv",
   "language": "python",
   "name": "python3"
  },
  "language_info": {
   "codemirror_mode": {
    "name": "ipython",
    "version": 3
   },
   "file_extension": ".py",
   "mimetype": "text/x-python",
   "name": "python",
   "nbconvert_exporter": "python",
   "pygments_lexer": "ipython3",
   "version": "3.12.3"
  }
 },
 "nbformat": 4,
 "nbformat_minor": 5
}
